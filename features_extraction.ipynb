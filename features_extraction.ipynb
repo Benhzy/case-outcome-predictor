{
 "cells": [
  {
   "cell_type": "markdown",
   "metadata": {},
   "source": [
    "#pip install PyPDF2~=2.0"
   ]
  },
  {
   "cell_type": "code",
   "execution_count": 7,
   "metadata": {},
   "outputs": [],
   "source": [
    "import PyPDF2\n",
    "import pandas as pd\n",
    "import os"
   ]
  },
  {
   "cell_type": "code",
   "execution_count": 8,
   "metadata": {},
   "outputs": [
    {
     "name": "stdout",
     "output_type": "stream",
     "text": [
      "                 target\n",
      "0      Appeals allowed.\n",
      "1       Appeal allowed.\n",
      "2    Order accordingly.\n",
      "3    Appeals dismissed.\n",
      "4     Appeal dismissed.\n",
      "..                  ...\n",
      "995                  NA\n",
      "996                  NA\n",
      "997                  NA\n",
      "998                  NA\n",
      "999                  NA\n",
      "\n",
      "[1000 rows x 1 columns]\n"
     ]
    }
   ],
   "source": [
    "def extract_outcome(pdf_file):\n",
    "    with open(pdf_file, 'rb') as f:\n",
    "        reader = PyPDF2.PdfFileReader(f)\n",
    "        num_pages = reader.numPages\n",
    "\n",
    "        outcome_text = \"\"\n",
    "\n",
    "        for page_num in range(num_pages):\n",
    "            page = reader.getPage(page_num)\n",
    "            page_text = page.extractText()\n",
    "\n",
    "            if \"Outcome:\" in page_text:\n",
    "                outcome_index = page_text.find(\"Outcome:\")\n",
    "                outcome_text = page_text[outcome_index+len(\"Outcome:\"):].strip()\n",
    "                return outcome_text.split(\"Copyright © Government of Singapore\")[0].strip()\n",
    "        return \"NA\"\n",
    "\n",
    "def find_order_accordingly(pdf_file):\n",
    "    outcome_text = extract_outcome(pdf_file)\n",
    "    return outcome_text\n",
    "\n",
    "# Folder containing PDF files\n",
    "pdf_folder = \"data/raw\"\n",
    "\n",
    "# List to store results\n",
    "results = []\n",
    "\n",
    "# Iterate over files in the folder\n",
    "for filename in os.listdir(pdf_folder):\n",
    "    if filename.endswith(\".pdf\"):\n",
    "        pdf_file_path = os.path.join(pdf_folder, filename)\n",
    "        result = [filename,find_order_accordingly(pdf_file_path)]\n",
    "        results.append(result)\n",
    "\n",
    "# Create a DataFrame with the results\n",
    "df = pd.DataFrame({\"filename\": results[0], \"target\": results[1]})\n",
    "print(df)"
   ]
  },
  {
   "cell_type": "code",
   "execution_count": 9,
   "metadata": {},
   "outputs": [],
   "source": [
    "df.to_csv(\"test.csv\")"
   ]
  }
 ],
 "metadata": {
  "kernelspec": {
   "display_name": "Python 3",
   "language": "python",
   "name": "python3"
  },
  "language_info": {
   "codemirror_mode": {
    "name": "ipython",
    "version": 3
   },
   "file_extension": ".py",
   "mimetype": "text/x-python",
   "name": "python",
   "nbconvert_exporter": "python",
   "pygments_lexer": "ipython3",
   "version": "3.10.5"
  }
 },
 "nbformat": 4,
 "nbformat_minor": 2
}
