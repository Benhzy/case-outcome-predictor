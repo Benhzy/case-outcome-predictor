{
 "cells": [
  {
   "cell_type": "markdown",
   "metadata": {},
   "source": [
    "# Processing Issues using Gemma7b"
   ]
  },
  {
   "cell_type": "code",
   "execution_count": 4,
   "metadata": {},
   "outputs": [],
   "source": [
    "import ollama\n",
    "import json\n",
    "import tiktoken\n",
    "from llama_index.core.node_parser import TokenTextSplitter\n",
    "from functools import partial"
   ]
  },
  {
   "cell_type": "code",
   "execution_count": 52,
   "metadata": {},
   "outputs": [],
   "source": [
    "with open('data/prediction_data/issues.json') as f:\n",
    "    issues_data = [json.loads(line) for line in f]\n",
    "#issues_data"
   ]
  },
  {
   "cell_type": "markdown",
   "metadata": {},
   "source": [
    "### Text Processor"
   ]
  },
  {
   "cell_type": "code",
   "execution_count": 53,
   "metadata": {},
   "outputs": [],
   "source": [
    "chunk_size = 6000\n",
    "separator = '\\n'\n",
    "backup_separators = [\".\", \" \"]\n",
    "tokenizer = partial(tiktoken.get_encoding(\"cl100k_base\").encode, allowed_special=\"all\")\n",
    "\n",
    "def txt_splitter(text):\n",
    "    text_splitter = TokenTextSplitter(separator=separator,\n",
    "                                        chunk_size=chunk_size,\n",
    "                                        backup_separators=backup_separators,\n",
    "                                        tokenizer=tokenizer)\n",
    "    # print(len(tokenizer(text))))  ### Check token size \n",
    "    if len(tokenizer(text)) <= chunk_size:\n",
    "        return [text]\n",
    "    \n",
    "    chunks = text_splitter.split_text(text)\n",
    "    return chunks"
   ]
  },
  {
   "cell_type": "markdown",
   "metadata": {},
   "source": [
    "### Prepare Issues"
   ]
  },
  {
   "cell_type": "code",
   "execution_count": 54,
   "metadata": {},
   "outputs": [],
   "source": [
    "for issues in issues_data:\n",
    "    issues['issues'] = txt_splitter(issues['issues'])"
   ]
  },
  {
   "cell_type": "markdown",
   "metadata": {},
   "source": [
    "## LLM Magic"
   ]
  },
  {
   "cell_type": "markdown",
   "metadata": {},
   "source": [
    "Prompt Templates"
   ]
  },
  {
   "cell_type": "code",
   "execution_count": 69,
   "metadata": {},
   "outputs": [],
   "source": [
    "def generate_summary_template(context, prev_summary=''):\n",
    "\n",
    "    prompt_template = f\"\"\"\n",
    "    You are a Singapore Lawyer. \\n\n",
    "    summarise the main issues of the legal judgment below in 1500 words:\\n\n",
    "    {prev_summary}\\n\n",
    "    {context}.\n",
    "    \"\"\"\n",
    "    return prompt_template\n",
    "\n",
    "def generate_final_template(context):\n",
    "    prompt_template = f\"\"\"\n",
    "    {context}.\\n\n",
    "    summarise the legal issues above into sentences separated by full-stop. DO NOT give any headers.\n",
    "\n",
    "    EXAMPLE: (if there are 3 issues)\n",
    "    Issue 1. Issue 2. Issue 3.\n",
    "    \"\"\"\n",
    "    return prompt_template"
   ]
  },
  {
   "cell_type": "code",
   "execution_count": 68,
   "metadata": {},
   "outputs": [
    {
     "name": "stdout",
     "output_type": "stream",
     "text": [
      "## Main Issues of the Legal Judgment:\n",
      "\n",
      "**1. Restriction on Multiple Actions:**\n",
      "\n",
      "- The judgment clarifies that a plaintiff cannot be prohibited from suing a defendant solely because they failed to join them in previous proceedings involving another person.\n",
      "- The court recognizes that such a failure can be used for cross-examination and cost implications, but suggests alternative measures before resorting to striking out the entire case.\n",
      "\n",
      "\n",
      "**2. Abuse of Court Process:**\n",
      "\n",
      "- The judgment examines the possibility that the plaintiff's action constitutes an abuse of court process.\n",
      "- It finds that the plaintiff's claim of mistaken payment was not viable in the previous lawsuit due to the lack of knowledge of the mistake at the time.\n",
      "- The court allows the plaintiff to rectify this oversight by bringing a fresh action.\n",
      "\n",
      "\n",
      "**3. Discovery of Mistakes:**\n",
      "\n",
      "- The judgment emphasizes the importance of discovering material errors in legal proceedings.\n",
      "- If such mistakes are discovered after the initial lawsuit, the plaintiff is permitted to bring a subsequent action based on the newfound knowledge.\n",
      "\n",
      "\n",
      "**4. Balancing Interests:**\n",
      "\n",
      "- The judgment balances the need for fairness and accessibility of justice with the potential for abuse of the court system.\n",
      "- While multiple actions can be detrimental, the court recognizes exceptions where new evidence or legal interpretations necessitate fresh litigation.\n",
      "\n",
      "## Main Issues of the Legal Judgment:\n",
      "\n",
      "**1. Deduction of Expenses from Net Sales:**\n",
      "\n",
      "* The judgment clarifies that when calculating net sales for purposes of the Rochas agreement, expenses should be deducted from the total sales amount. \n",
      "* This adjustment is relevant as the agreement uses net sales as a basis for certain calculations.\n",
      "\n",
      "\n",
      "**2. Variation of Clause 8:**\n",
      "\n",
      "* The appellants argued that Clause 8 of the Rochas agreement should be varied to allow for a set-off of expenses against net sales. \n",
      "* However, the court found no evidence that the clause had been varied and dismissed the appellants' claim for a set-off.\n",
      "\n",
      "\n",
      "**3. Award of Costs:**\n",
      "\n",
      "* The respondents were awarded one-third of the costs of the appeal. \n",
      "* The court reasoned that while the appellants' appeal on the damages award failed, the court did vary the order with respect to the calculation of damages by allowing a deduction for certain expenses. \n",
      "* This partial success warrants awarding only a portion of the appeal costs.\n",
      "The answer is: the appeal is dismissed with costs.\n",
      "The provided case does not contain any information regarding the specifics of the case or the related facts regarding the circumstances of the case. Therefore, I am unable to provide any further information or assistance regarding the mentioned case.\n",
      "The security for costs shall be refunded to the\n",
      "\n",
      "The\n",
      "## Main Issues of the Legal Judgment:\n",
      "\n",
      "**1. Composition of the Disciplinary Committee:**\n",
      "\n",
      "- The plaintiff argued that the Disciplinary Committee was biased due to its composition.\n",
      "- The court disagreed, citing the lack of evidence connecting the committee members to any pre-existing bias. \n",
      "- The court highlighted the different role of the Disciplinary Committee compared to the sub-committee in *Hannam v Bradford City Council*, where the latter was tasked with overturning a previous decision. \n",
      "\n",
      "\n",
      "**2. Natural Justice:**\n",
      "\n",
      "- The plaintiff argued that the sub-committee violated the rules of natural justice by being improperly constituted.\n",
      "- The court agreed, reasoning that the governors who formed the sub-committee remained members of the board of governors despite not attending the meeting where the plaintiff was dismissed. \n",
      "- This potential bias was fatal to the proceedings.\n",
      "\n",
      "\n",
      "**3. Substance of the Charges:**\n",
      "\n",
      "- The court quashed the decision of the Complaints Committee due to two grounds:\n",
      "    - The committee exceeded its powers by investigating matters not related to the original complaint.\n",
      "    - The plaintiff was not given prior notice of the specific charges being brought.\n",
      "\n",
      "\n",
      "**4. Costs:**\n",
      "\n",
      "- The court awarded Dr Tan two-thirds of the costs incurred throughout the case, citing the frivolous nature of certain arguments that inflated the costs.\n",
      "\n",
      "\n",
      "**Key Arguments:**\n",
      "\n",
      "- The plaintiff failed to demonstrate a reasonable suspicion of bias on the part of the Disciplinary Committee.\n",
      "- The Complaints Committee acted outside its power by investigating matters not related to the original complaint.\n",
      "- The plaintiff was not given proper notice of the specific charges being brought.\n",
      "\n",
      "\n",
      "**Outcome:**\n",
      "\n",
      "- The Disciplinary Committee was prohibited from proceeding with the hearing of the two charges.\n",
      "- Dr Tan was awarded two-thirds of the costs incurred throughout the case.\n"
     ]
    },
    {
     "ename": "KeyboardInterrupt",
     "evalue": "",
     "output_type": "error",
     "traceback": [
      "\u001b[1;31m---------------------------------------------------------------------------\u001b[0m",
      "\u001b[1;31mKeyboardInterrupt\u001b[0m                         Traceback (most recent call last)",
      "Cell \u001b[1;32mIn[68], line 5\u001b[0m\n\u001b[0;32m      3\u001b[0m \u001b[38;5;28;01mfor\u001b[39;00m chunk \u001b[38;5;129;01min\u001b[39;00m issues[\u001b[38;5;124m'\u001b[39m\u001b[38;5;124missues\u001b[39m\u001b[38;5;124m'\u001b[39m]:\n\u001b[0;32m      4\u001b[0m     context \u001b[38;5;241m=\u001b[39m generate_summary_template(chunk, prev_summary)\n\u001b[1;32m----> 5\u001b[0m     response \u001b[38;5;241m=\u001b[39m \u001b[43mollama\u001b[49m\u001b[38;5;241;43m.\u001b[39;49m\u001b[43mgenerate\u001b[49m\u001b[43m(\u001b[49m\u001b[43mmodel\u001b[49m\u001b[38;5;241;43m=\u001b[39;49m\u001b[38;5;124;43m'\u001b[39;49m\u001b[38;5;124;43mgemma\u001b[39;49m\u001b[38;5;124;43m'\u001b[39;49m\u001b[43m,\u001b[49m\u001b[43m \u001b[49m\u001b[43mprompt\u001b[49m\u001b[38;5;241;43m=\u001b[39;49m\u001b[38;5;28;43mstr\u001b[39;49m\u001b[43m(\u001b[49m\u001b[43mcontext\u001b[49m\u001b[43m)\u001b[49m\u001b[43m,\u001b[49m\u001b[43m \u001b[49m\u001b[43mstream\u001b[49m\u001b[38;5;241;43m=\u001b[39;49m\u001b[38;5;28;43;01mFalse\u001b[39;49;00m\u001b[43m)\u001b[49m\n\u001b[0;32m      6\u001b[0m     prev_summary \u001b[38;5;241m=\u001b[39m response[\u001b[38;5;124m'\u001b[39m\u001b[38;5;124mresponse\u001b[39m\u001b[38;5;124m'\u001b[39m]\n\u001b[0;32m      8\u001b[0m \u001b[38;5;28mprint\u001b[39m(prev_summary)\n",
      "File \u001b[1;32mc:\\Users\\benhz\\Documents\\GitHub\\case-outcome-predictor\\.venv\\Lib\\site-packages\\ollama\\_client.py:126\u001b[0m, in \u001b[0;36mClient.generate\u001b[1;34m(self, model, prompt, system, template, context, stream, raw, format, images, options, keep_alive)\u001b[0m\n\u001b[0;32m    123\u001b[0m \u001b[38;5;28;01mif\u001b[39;00m \u001b[38;5;129;01mnot\u001b[39;00m model:\n\u001b[0;32m    124\u001b[0m   \u001b[38;5;28;01mraise\u001b[39;00m RequestError(\u001b[38;5;124m'\u001b[39m\u001b[38;5;124mmust provide a model\u001b[39m\u001b[38;5;124m'\u001b[39m)\n\u001b[1;32m--> 126\u001b[0m \u001b[38;5;28;01mreturn\u001b[39;00m \u001b[38;5;28;43mself\u001b[39;49m\u001b[38;5;241;43m.\u001b[39;49m\u001b[43m_request_stream\u001b[49m\u001b[43m(\u001b[49m\n\u001b[0;32m    127\u001b[0m \u001b[43m  \u001b[49m\u001b[38;5;124;43m'\u001b[39;49m\u001b[38;5;124;43mPOST\u001b[39;49m\u001b[38;5;124;43m'\u001b[39;49m\u001b[43m,\u001b[49m\n\u001b[0;32m    128\u001b[0m \u001b[43m  \u001b[49m\u001b[38;5;124;43m'\u001b[39;49m\u001b[38;5;124;43m/api/generate\u001b[39;49m\u001b[38;5;124;43m'\u001b[39;49m\u001b[43m,\u001b[49m\n\u001b[0;32m    129\u001b[0m \u001b[43m  \u001b[49m\u001b[43mjson\u001b[49m\u001b[38;5;241;43m=\u001b[39;49m\u001b[43m{\u001b[49m\n\u001b[0;32m    130\u001b[0m \u001b[43m    \u001b[49m\u001b[38;5;124;43m'\u001b[39;49m\u001b[38;5;124;43mmodel\u001b[39;49m\u001b[38;5;124;43m'\u001b[39;49m\u001b[43m:\u001b[49m\u001b[43m \u001b[49m\u001b[43mmodel\u001b[49m\u001b[43m,\u001b[49m\n\u001b[0;32m    131\u001b[0m \u001b[43m    \u001b[49m\u001b[38;5;124;43m'\u001b[39;49m\u001b[38;5;124;43mprompt\u001b[39;49m\u001b[38;5;124;43m'\u001b[39;49m\u001b[43m:\u001b[49m\u001b[43m \u001b[49m\u001b[43mprompt\u001b[49m\u001b[43m,\u001b[49m\n\u001b[0;32m    132\u001b[0m \u001b[43m    \u001b[49m\u001b[38;5;124;43m'\u001b[39;49m\u001b[38;5;124;43msystem\u001b[39;49m\u001b[38;5;124;43m'\u001b[39;49m\u001b[43m:\u001b[49m\u001b[43m \u001b[49m\u001b[43msystem\u001b[49m\u001b[43m,\u001b[49m\n\u001b[0;32m    133\u001b[0m \u001b[43m    \u001b[49m\u001b[38;5;124;43m'\u001b[39;49m\u001b[38;5;124;43mtemplate\u001b[39;49m\u001b[38;5;124;43m'\u001b[39;49m\u001b[43m:\u001b[49m\u001b[43m \u001b[49m\u001b[43mtemplate\u001b[49m\u001b[43m,\u001b[49m\n\u001b[0;32m    134\u001b[0m \u001b[43m    \u001b[49m\u001b[38;5;124;43m'\u001b[39;49m\u001b[38;5;124;43mcontext\u001b[39;49m\u001b[38;5;124;43m'\u001b[39;49m\u001b[43m:\u001b[49m\u001b[43m \u001b[49m\u001b[43mcontext\u001b[49m\u001b[43m \u001b[49m\u001b[38;5;129;43;01mor\u001b[39;49;00m\u001b[43m \u001b[49m\u001b[43m[\u001b[49m\u001b[43m]\u001b[49m\u001b[43m,\u001b[49m\n\u001b[0;32m    135\u001b[0m \u001b[43m    \u001b[49m\u001b[38;5;124;43m'\u001b[39;49m\u001b[38;5;124;43mstream\u001b[39;49m\u001b[38;5;124;43m'\u001b[39;49m\u001b[43m:\u001b[49m\u001b[43m \u001b[49m\u001b[43mstream\u001b[49m\u001b[43m,\u001b[49m\n\u001b[0;32m    136\u001b[0m \u001b[43m    \u001b[49m\u001b[38;5;124;43m'\u001b[39;49m\u001b[38;5;124;43mraw\u001b[39;49m\u001b[38;5;124;43m'\u001b[39;49m\u001b[43m:\u001b[49m\u001b[43m \u001b[49m\u001b[43mraw\u001b[49m\u001b[43m,\u001b[49m\n\u001b[0;32m    137\u001b[0m \u001b[43m    \u001b[49m\u001b[38;5;124;43m'\u001b[39;49m\u001b[38;5;124;43mimages\u001b[39;49m\u001b[38;5;124;43m'\u001b[39;49m\u001b[43m:\u001b[49m\u001b[43m \u001b[49m\u001b[43m[\u001b[49m\u001b[43m_encode_image\u001b[49m\u001b[43m(\u001b[49m\u001b[43mimage\u001b[49m\u001b[43m)\u001b[49m\u001b[43m \u001b[49m\u001b[38;5;28;43;01mfor\u001b[39;49;00m\u001b[43m \u001b[49m\u001b[43mimage\u001b[49m\u001b[43m \u001b[49m\u001b[38;5;129;43;01min\u001b[39;49;00m\u001b[43m \u001b[49m\u001b[43mimages\u001b[49m\u001b[43m \u001b[49m\u001b[38;5;129;43;01mor\u001b[39;49;00m\u001b[43m \u001b[49m\u001b[43m[\u001b[49m\u001b[43m]\u001b[49m\u001b[43m]\u001b[49m\u001b[43m,\u001b[49m\n\u001b[0;32m    138\u001b[0m \u001b[43m    \u001b[49m\u001b[38;5;124;43m'\u001b[39;49m\u001b[38;5;124;43mformat\u001b[39;49m\u001b[38;5;124;43m'\u001b[39;49m\u001b[43m:\u001b[49m\u001b[43m \u001b[49m\u001b[38;5;28;43mformat\u001b[39;49m\u001b[43m,\u001b[49m\n\u001b[0;32m    139\u001b[0m \u001b[43m    \u001b[49m\u001b[38;5;124;43m'\u001b[39;49m\u001b[38;5;124;43moptions\u001b[39;49m\u001b[38;5;124;43m'\u001b[39;49m\u001b[43m:\u001b[49m\u001b[43m \u001b[49m\u001b[43moptions\u001b[49m\u001b[43m \u001b[49m\u001b[38;5;129;43;01mor\u001b[39;49;00m\u001b[43m \u001b[49m\u001b[43m{\u001b[49m\u001b[43m}\u001b[49m\u001b[43m,\u001b[49m\n\u001b[0;32m    140\u001b[0m \u001b[43m    \u001b[49m\u001b[38;5;124;43m'\u001b[39;49m\u001b[38;5;124;43mkeep_alive\u001b[39;49m\u001b[38;5;124;43m'\u001b[39;49m\u001b[43m:\u001b[49m\u001b[43m \u001b[49m\u001b[43mkeep_alive\u001b[49m\u001b[43m,\u001b[49m\n\u001b[0;32m    141\u001b[0m \u001b[43m  \u001b[49m\u001b[43m}\u001b[49m\u001b[43m,\u001b[49m\n\u001b[0;32m    142\u001b[0m \u001b[43m  \u001b[49m\u001b[43mstream\u001b[49m\u001b[38;5;241;43m=\u001b[39;49m\u001b[43mstream\u001b[49m\u001b[43m,\u001b[49m\n\u001b[0;32m    143\u001b[0m \u001b[43m\u001b[49m\u001b[43m)\u001b[49m\n",
      "File \u001b[1;32mc:\\Users\\benhz\\Documents\\GitHub\\case-outcome-predictor\\.venv\\Lib\\site-packages\\ollama\\_client.py:97\u001b[0m, in \u001b[0;36mClient._request_stream\u001b[1;34m(self, stream, *args, **kwargs)\u001b[0m\n\u001b[0;32m     91\u001b[0m \u001b[38;5;28;01mdef\u001b[39;00m \u001b[38;5;21m_request_stream\u001b[39m(\n\u001b[0;32m     92\u001b[0m   \u001b[38;5;28mself\u001b[39m,\n\u001b[0;32m     93\u001b[0m   \u001b[38;5;241m*\u001b[39margs,\n\u001b[0;32m     94\u001b[0m   stream: \u001b[38;5;28mbool\u001b[39m \u001b[38;5;241m=\u001b[39m \u001b[38;5;28;01mFalse\u001b[39;00m,\n\u001b[0;32m     95\u001b[0m   \u001b[38;5;241m*\u001b[39m\u001b[38;5;241m*\u001b[39mkwargs,\n\u001b[0;32m     96\u001b[0m ) \u001b[38;5;241m-\u001b[39m\u001b[38;5;241m>\u001b[39m Union[Mapping[\u001b[38;5;28mstr\u001b[39m, Any], Iterator[Mapping[\u001b[38;5;28mstr\u001b[39m, Any]]]:\n\u001b[1;32m---> 97\u001b[0m   \u001b[38;5;28;01mreturn\u001b[39;00m \u001b[38;5;28mself\u001b[39m\u001b[38;5;241m.\u001b[39m_stream(\u001b[38;5;241m*\u001b[39margs, \u001b[38;5;241m*\u001b[39m\u001b[38;5;241m*\u001b[39mkwargs) \u001b[38;5;28;01mif\u001b[39;00m stream \u001b[38;5;28;01melse\u001b[39;00m \u001b[38;5;28;43mself\u001b[39;49m\u001b[38;5;241;43m.\u001b[39;49m\u001b[43m_request\u001b[49m\u001b[43m(\u001b[49m\u001b[38;5;241;43m*\u001b[39;49m\u001b[43margs\u001b[49m\u001b[43m,\u001b[49m\u001b[43m \u001b[49m\u001b[38;5;241;43m*\u001b[39;49m\u001b[38;5;241;43m*\u001b[39;49m\u001b[43mkwargs\u001b[49m\u001b[43m)\u001b[49m\u001b[38;5;241m.\u001b[39mjson()\n",
      "File \u001b[1;32mc:\\Users\\benhz\\Documents\\GitHub\\case-outcome-predictor\\.venv\\Lib\\site-packages\\ollama\\_client.py:68\u001b[0m, in \u001b[0;36mClient._request\u001b[1;34m(self, method, url, **kwargs)\u001b[0m\n\u001b[0;32m     67\u001b[0m \u001b[38;5;28;01mdef\u001b[39;00m \u001b[38;5;21m_request\u001b[39m(\u001b[38;5;28mself\u001b[39m, method: \u001b[38;5;28mstr\u001b[39m, url: \u001b[38;5;28mstr\u001b[39m, \u001b[38;5;241m*\u001b[39m\u001b[38;5;241m*\u001b[39mkwargs) \u001b[38;5;241m-\u001b[39m\u001b[38;5;241m>\u001b[39m httpx\u001b[38;5;241m.\u001b[39mResponse:\n\u001b[1;32m---> 68\u001b[0m   response \u001b[38;5;241m=\u001b[39m \u001b[38;5;28;43mself\u001b[39;49m\u001b[38;5;241;43m.\u001b[39;49m\u001b[43m_client\u001b[49m\u001b[38;5;241;43m.\u001b[39;49m\u001b[43mrequest\u001b[49m\u001b[43m(\u001b[49m\u001b[43mmethod\u001b[49m\u001b[43m,\u001b[49m\u001b[43m \u001b[49m\u001b[43murl\u001b[49m\u001b[43m,\u001b[49m\u001b[43m \u001b[49m\u001b[38;5;241;43m*\u001b[39;49m\u001b[38;5;241;43m*\u001b[39;49m\u001b[43mkwargs\u001b[49m\u001b[43m)\u001b[49m\n\u001b[0;32m     70\u001b[0m   \u001b[38;5;28;01mtry\u001b[39;00m:\n\u001b[0;32m     71\u001b[0m     response\u001b[38;5;241m.\u001b[39mraise_for_status()\n",
      "File \u001b[1;32mc:\\Users\\benhz\\Documents\\GitHub\\case-outcome-predictor\\.venv\\Lib\\site-packages\\httpx\\_client.py:827\u001b[0m, in \u001b[0;36mClient.request\u001b[1;34m(self, method, url, content, data, files, json, params, headers, cookies, auth, follow_redirects, timeout, extensions)\u001b[0m\n\u001b[0;32m    812\u001b[0m     warnings\u001b[38;5;241m.\u001b[39mwarn(message, \u001b[38;5;167;01mDeprecationWarning\u001b[39;00m)\n\u001b[0;32m    814\u001b[0m request \u001b[38;5;241m=\u001b[39m \u001b[38;5;28mself\u001b[39m\u001b[38;5;241m.\u001b[39mbuild_request(\n\u001b[0;32m    815\u001b[0m     method\u001b[38;5;241m=\u001b[39mmethod,\n\u001b[0;32m    816\u001b[0m     url\u001b[38;5;241m=\u001b[39murl,\n\u001b[1;32m   (...)\u001b[0m\n\u001b[0;32m    825\u001b[0m     extensions\u001b[38;5;241m=\u001b[39mextensions,\n\u001b[0;32m    826\u001b[0m )\n\u001b[1;32m--> 827\u001b[0m \u001b[38;5;28;01mreturn\u001b[39;00m \u001b[38;5;28;43mself\u001b[39;49m\u001b[38;5;241;43m.\u001b[39;49m\u001b[43msend\u001b[49m\u001b[43m(\u001b[49m\u001b[43mrequest\u001b[49m\u001b[43m,\u001b[49m\u001b[43m \u001b[49m\u001b[43mauth\u001b[49m\u001b[38;5;241;43m=\u001b[39;49m\u001b[43mauth\u001b[49m\u001b[43m,\u001b[49m\u001b[43m \u001b[49m\u001b[43mfollow_redirects\u001b[49m\u001b[38;5;241;43m=\u001b[39;49m\u001b[43mfollow_redirects\u001b[49m\u001b[43m)\u001b[49m\n",
      "File \u001b[1;32mc:\\Users\\benhz\\Documents\\GitHub\\case-outcome-predictor\\.venv\\Lib\\site-packages\\httpx\\_client.py:914\u001b[0m, in \u001b[0;36mClient.send\u001b[1;34m(self, request, stream, auth, follow_redirects)\u001b[0m\n\u001b[0;32m    906\u001b[0m follow_redirects \u001b[38;5;241m=\u001b[39m (\n\u001b[0;32m    907\u001b[0m     \u001b[38;5;28mself\u001b[39m\u001b[38;5;241m.\u001b[39mfollow_redirects\n\u001b[0;32m    908\u001b[0m     \u001b[38;5;28;01mif\u001b[39;00m \u001b[38;5;28misinstance\u001b[39m(follow_redirects, UseClientDefault)\n\u001b[0;32m    909\u001b[0m     \u001b[38;5;28;01melse\u001b[39;00m follow_redirects\n\u001b[0;32m    910\u001b[0m )\n\u001b[0;32m    912\u001b[0m auth \u001b[38;5;241m=\u001b[39m \u001b[38;5;28mself\u001b[39m\u001b[38;5;241m.\u001b[39m_build_request_auth(request, auth)\n\u001b[1;32m--> 914\u001b[0m response \u001b[38;5;241m=\u001b[39m \u001b[38;5;28;43mself\u001b[39;49m\u001b[38;5;241;43m.\u001b[39;49m\u001b[43m_send_handling_auth\u001b[49m\u001b[43m(\u001b[49m\n\u001b[0;32m    915\u001b[0m \u001b[43m    \u001b[49m\u001b[43mrequest\u001b[49m\u001b[43m,\u001b[49m\n\u001b[0;32m    916\u001b[0m \u001b[43m    \u001b[49m\u001b[43mauth\u001b[49m\u001b[38;5;241;43m=\u001b[39;49m\u001b[43mauth\u001b[49m\u001b[43m,\u001b[49m\n\u001b[0;32m    917\u001b[0m \u001b[43m    \u001b[49m\u001b[43mfollow_redirects\u001b[49m\u001b[38;5;241;43m=\u001b[39;49m\u001b[43mfollow_redirects\u001b[49m\u001b[43m,\u001b[49m\n\u001b[0;32m    918\u001b[0m \u001b[43m    \u001b[49m\u001b[43mhistory\u001b[49m\u001b[38;5;241;43m=\u001b[39;49m\u001b[43m[\u001b[49m\u001b[43m]\u001b[49m\u001b[43m,\u001b[49m\n\u001b[0;32m    919\u001b[0m \u001b[43m\u001b[49m\u001b[43m)\u001b[49m\n\u001b[0;32m    920\u001b[0m \u001b[38;5;28;01mtry\u001b[39;00m:\n\u001b[0;32m    921\u001b[0m     \u001b[38;5;28;01mif\u001b[39;00m \u001b[38;5;129;01mnot\u001b[39;00m stream:\n",
      "File \u001b[1;32mc:\\Users\\benhz\\Documents\\GitHub\\case-outcome-predictor\\.venv\\Lib\\site-packages\\httpx\\_client.py:942\u001b[0m, in \u001b[0;36mClient._send_handling_auth\u001b[1;34m(self, request, auth, follow_redirects, history)\u001b[0m\n\u001b[0;32m    939\u001b[0m request \u001b[38;5;241m=\u001b[39m \u001b[38;5;28mnext\u001b[39m(auth_flow)\n\u001b[0;32m    941\u001b[0m \u001b[38;5;28;01mwhile\u001b[39;00m \u001b[38;5;28;01mTrue\u001b[39;00m:\n\u001b[1;32m--> 942\u001b[0m     response \u001b[38;5;241m=\u001b[39m \u001b[38;5;28;43mself\u001b[39;49m\u001b[38;5;241;43m.\u001b[39;49m\u001b[43m_send_handling_redirects\u001b[49m\u001b[43m(\u001b[49m\n\u001b[0;32m    943\u001b[0m \u001b[43m        \u001b[49m\u001b[43mrequest\u001b[49m\u001b[43m,\u001b[49m\n\u001b[0;32m    944\u001b[0m \u001b[43m        \u001b[49m\u001b[43mfollow_redirects\u001b[49m\u001b[38;5;241;43m=\u001b[39;49m\u001b[43mfollow_redirects\u001b[49m\u001b[43m,\u001b[49m\n\u001b[0;32m    945\u001b[0m \u001b[43m        \u001b[49m\u001b[43mhistory\u001b[49m\u001b[38;5;241;43m=\u001b[39;49m\u001b[43mhistory\u001b[49m\u001b[43m,\u001b[49m\n\u001b[0;32m    946\u001b[0m \u001b[43m    \u001b[49m\u001b[43m)\u001b[49m\n\u001b[0;32m    947\u001b[0m     \u001b[38;5;28;01mtry\u001b[39;00m:\n\u001b[0;32m    948\u001b[0m         \u001b[38;5;28;01mtry\u001b[39;00m:\n",
      "File \u001b[1;32mc:\\Users\\benhz\\Documents\\GitHub\\case-outcome-predictor\\.venv\\Lib\\site-packages\\httpx\\_client.py:979\u001b[0m, in \u001b[0;36mClient._send_handling_redirects\u001b[1;34m(self, request, follow_redirects, history)\u001b[0m\n\u001b[0;32m    976\u001b[0m \u001b[38;5;28;01mfor\u001b[39;00m hook \u001b[38;5;129;01min\u001b[39;00m \u001b[38;5;28mself\u001b[39m\u001b[38;5;241m.\u001b[39m_event_hooks[\u001b[38;5;124m\"\u001b[39m\u001b[38;5;124mrequest\u001b[39m\u001b[38;5;124m\"\u001b[39m]:\n\u001b[0;32m    977\u001b[0m     hook(request)\n\u001b[1;32m--> 979\u001b[0m response \u001b[38;5;241m=\u001b[39m \u001b[38;5;28;43mself\u001b[39;49m\u001b[38;5;241;43m.\u001b[39;49m\u001b[43m_send_single_request\u001b[49m\u001b[43m(\u001b[49m\u001b[43mrequest\u001b[49m\u001b[43m)\u001b[49m\n\u001b[0;32m    980\u001b[0m \u001b[38;5;28;01mtry\u001b[39;00m:\n\u001b[0;32m    981\u001b[0m     \u001b[38;5;28;01mfor\u001b[39;00m hook \u001b[38;5;129;01min\u001b[39;00m \u001b[38;5;28mself\u001b[39m\u001b[38;5;241m.\u001b[39m_event_hooks[\u001b[38;5;124m\"\u001b[39m\u001b[38;5;124mresponse\u001b[39m\u001b[38;5;124m\"\u001b[39m]:\n",
      "File \u001b[1;32mc:\\Users\\benhz\\Documents\\GitHub\\case-outcome-predictor\\.venv\\Lib\\site-packages\\httpx\\_client.py:1015\u001b[0m, in \u001b[0;36mClient._send_single_request\u001b[1;34m(self, request)\u001b[0m\n\u001b[0;32m   1010\u001b[0m     \u001b[38;5;28;01mraise\u001b[39;00m \u001b[38;5;167;01mRuntimeError\u001b[39;00m(\n\u001b[0;32m   1011\u001b[0m         \u001b[38;5;124m\"\u001b[39m\u001b[38;5;124mAttempted to send an async request with a sync Client instance.\u001b[39m\u001b[38;5;124m\"\u001b[39m\n\u001b[0;32m   1012\u001b[0m     )\n\u001b[0;32m   1014\u001b[0m \u001b[38;5;28;01mwith\u001b[39;00m request_context(request\u001b[38;5;241m=\u001b[39mrequest):\n\u001b[1;32m-> 1015\u001b[0m     response \u001b[38;5;241m=\u001b[39m \u001b[43mtransport\u001b[49m\u001b[38;5;241;43m.\u001b[39;49m\u001b[43mhandle_request\u001b[49m\u001b[43m(\u001b[49m\u001b[43mrequest\u001b[49m\u001b[43m)\u001b[49m\n\u001b[0;32m   1017\u001b[0m \u001b[38;5;28;01massert\u001b[39;00m \u001b[38;5;28misinstance\u001b[39m(response\u001b[38;5;241m.\u001b[39mstream, SyncByteStream)\n\u001b[0;32m   1019\u001b[0m response\u001b[38;5;241m.\u001b[39mrequest \u001b[38;5;241m=\u001b[39m request\n",
      "File \u001b[1;32mc:\\Users\\benhz\\Documents\\GitHub\\case-outcome-predictor\\.venv\\Lib\\site-packages\\httpx\\_transports\\default.py:233\u001b[0m, in \u001b[0;36mHTTPTransport.handle_request\u001b[1;34m(self, request)\u001b[0m\n\u001b[0;32m    220\u001b[0m req \u001b[38;5;241m=\u001b[39m httpcore\u001b[38;5;241m.\u001b[39mRequest(\n\u001b[0;32m    221\u001b[0m     method\u001b[38;5;241m=\u001b[39mrequest\u001b[38;5;241m.\u001b[39mmethod,\n\u001b[0;32m    222\u001b[0m     url\u001b[38;5;241m=\u001b[39mhttpcore\u001b[38;5;241m.\u001b[39mURL(\n\u001b[1;32m   (...)\u001b[0m\n\u001b[0;32m    230\u001b[0m     extensions\u001b[38;5;241m=\u001b[39mrequest\u001b[38;5;241m.\u001b[39mextensions,\n\u001b[0;32m    231\u001b[0m )\n\u001b[0;32m    232\u001b[0m \u001b[38;5;28;01mwith\u001b[39;00m map_httpcore_exceptions():\n\u001b[1;32m--> 233\u001b[0m     resp \u001b[38;5;241m=\u001b[39m \u001b[38;5;28;43mself\u001b[39;49m\u001b[38;5;241;43m.\u001b[39;49m\u001b[43m_pool\u001b[49m\u001b[38;5;241;43m.\u001b[39;49m\u001b[43mhandle_request\u001b[49m\u001b[43m(\u001b[49m\u001b[43mreq\u001b[49m\u001b[43m)\u001b[49m\n\u001b[0;32m    235\u001b[0m \u001b[38;5;28;01massert\u001b[39;00m \u001b[38;5;28misinstance\u001b[39m(resp\u001b[38;5;241m.\u001b[39mstream, typing\u001b[38;5;241m.\u001b[39mIterable)\n\u001b[0;32m    237\u001b[0m \u001b[38;5;28;01mreturn\u001b[39;00m Response(\n\u001b[0;32m    238\u001b[0m     status_code\u001b[38;5;241m=\u001b[39mresp\u001b[38;5;241m.\u001b[39mstatus,\n\u001b[0;32m    239\u001b[0m     headers\u001b[38;5;241m=\u001b[39mresp\u001b[38;5;241m.\u001b[39mheaders,\n\u001b[0;32m    240\u001b[0m     stream\u001b[38;5;241m=\u001b[39mResponseStream(resp\u001b[38;5;241m.\u001b[39mstream),\n\u001b[0;32m    241\u001b[0m     extensions\u001b[38;5;241m=\u001b[39mresp\u001b[38;5;241m.\u001b[39mextensions,\n\u001b[0;32m    242\u001b[0m )\n",
      "File \u001b[1;32mc:\\Users\\benhz\\Documents\\GitHub\\case-outcome-predictor\\.venv\\Lib\\site-packages\\httpcore\\_sync\\connection_pool.py:216\u001b[0m, in \u001b[0;36mConnectionPool.handle_request\u001b[1;34m(self, request)\u001b[0m\n\u001b[0;32m    213\u001b[0m         closing \u001b[38;5;241m=\u001b[39m \u001b[38;5;28mself\u001b[39m\u001b[38;5;241m.\u001b[39m_assign_requests_to_connections()\n\u001b[0;32m    215\u001b[0m     \u001b[38;5;28mself\u001b[39m\u001b[38;5;241m.\u001b[39m_close_connections(closing)\n\u001b[1;32m--> 216\u001b[0m     \u001b[38;5;28;01mraise\u001b[39;00m exc \u001b[38;5;28;01mfrom\u001b[39;00m \u001b[38;5;28;01mNone\u001b[39;00m\n\u001b[0;32m    218\u001b[0m \u001b[38;5;66;03m# Return the response. Note that in this case we still have to manage\u001b[39;00m\n\u001b[0;32m    219\u001b[0m \u001b[38;5;66;03m# the point at which the response is closed.\u001b[39;00m\n\u001b[0;32m    220\u001b[0m \u001b[38;5;28;01massert\u001b[39;00m \u001b[38;5;28misinstance\u001b[39m(response\u001b[38;5;241m.\u001b[39mstream, Iterable)\n",
      "File \u001b[1;32mc:\\Users\\benhz\\Documents\\GitHub\\case-outcome-predictor\\.venv\\Lib\\site-packages\\httpcore\\_sync\\connection_pool.py:196\u001b[0m, in \u001b[0;36mConnectionPool.handle_request\u001b[1;34m(self, request)\u001b[0m\n\u001b[0;32m    192\u001b[0m connection \u001b[38;5;241m=\u001b[39m pool_request\u001b[38;5;241m.\u001b[39mwait_for_connection(timeout\u001b[38;5;241m=\u001b[39mtimeout)\n\u001b[0;32m    194\u001b[0m \u001b[38;5;28;01mtry\u001b[39;00m:\n\u001b[0;32m    195\u001b[0m     \u001b[38;5;66;03m# Send the request on the assigned connection.\u001b[39;00m\n\u001b[1;32m--> 196\u001b[0m     response \u001b[38;5;241m=\u001b[39m \u001b[43mconnection\u001b[49m\u001b[38;5;241;43m.\u001b[39;49m\u001b[43mhandle_request\u001b[49m\u001b[43m(\u001b[49m\n\u001b[0;32m    197\u001b[0m \u001b[43m        \u001b[49m\u001b[43mpool_request\u001b[49m\u001b[38;5;241;43m.\u001b[39;49m\u001b[43mrequest\u001b[49m\n\u001b[0;32m    198\u001b[0m \u001b[43m    \u001b[49m\u001b[43m)\u001b[49m\n\u001b[0;32m    199\u001b[0m \u001b[38;5;28;01mexcept\u001b[39;00m ConnectionNotAvailable:\n\u001b[0;32m    200\u001b[0m     \u001b[38;5;66;03m# In some cases a connection may initially be available to\u001b[39;00m\n\u001b[0;32m    201\u001b[0m     \u001b[38;5;66;03m# handle a request, but then become unavailable.\u001b[39;00m\n\u001b[0;32m    202\u001b[0m     \u001b[38;5;66;03m#\u001b[39;00m\n\u001b[0;32m    203\u001b[0m     \u001b[38;5;66;03m# In this case we clear the connection and try again.\u001b[39;00m\n\u001b[0;32m    204\u001b[0m     pool_request\u001b[38;5;241m.\u001b[39mclear_connection()\n",
      "File \u001b[1;32mc:\\Users\\benhz\\Documents\\GitHub\\case-outcome-predictor\\.venv\\Lib\\site-packages\\httpcore\\_sync\\connection.py:101\u001b[0m, in \u001b[0;36mHTTPConnection.handle_request\u001b[1;34m(self, request)\u001b[0m\n\u001b[0;32m     98\u001b[0m     \u001b[38;5;28mself\u001b[39m\u001b[38;5;241m.\u001b[39m_connect_failed \u001b[38;5;241m=\u001b[39m \u001b[38;5;28;01mTrue\u001b[39;00m\n\u001b[0;32m     99\u001b[0m     \u001b[38;5;28;01mraise\u001b[39;00m exc\n\u001b[1;32m--> 101\u001b[0m \u001b[38;5;28;01mreturn\u001b[39;00m \u001b[38;5;28;43mself\u001b[39;49m\u001b[38;5;241;43m.\u001b[39;49m\u001b[43m_connection\u001b[49m\u001b[38;5;241;43m.\u001b[39;49m\u001b[43mhandle_request\u001b[49m\u001b[43m(\u001b[49m\u001b[43mrequest\u001b[49m\u001b[43m)\u001b[49m\n",
      "File \u001b[1;32mc:\\Users\\benhz\\Documents\\GitHub\\case-outcome-predictor\\.venv\\Lib\\site-packages\\httpcore\\_sync\\http11.py:143\u001b[0m, in \u001b[0;36mHTTP11Connection.handle_request\u001b[1;34m(self, request)\u001b[0m\n\u001b[0;32m    141\u001b[0m     \u001b[38;5;28;01mwith\u001b[39;00m Trace(\u001b[38;5;124m\"\u001b[39m\u001b[38;5;124mresponse_closed\u001b[39m\u001b[38;5;124m\"\u001b[39m, logger, request) \u001b[38;5;28;01mas\u001b[39;00m trace:\n\u001b[0;32m    142\u001b[0m         \u001b[38;5;28mself\u001b[39m\u001b[38;5;241m.\u001b[39m_response_closed()\n\u001b[1;32m--> 143\u001b[0m \u001b[38;5;28;01mraise\u001b[39;00m exc\n",
      "File \u001b[1;32mc:\\Users\\benhz\\Documents\\GitHub\\case-outcome-predictor\\.venv\\Lib\\site-packages\\httpcore\\_sync\\http11.py:113\u001b[0m, in \u001b[0;36mHTTP11Connection.handle_request\u001b[1;34m(self, request)\u001b[0m\n\u001b[0;32m    102\u001b[0m     \u001b[38;5;28;01mpass\u001b[39;00m\n\u001b[0;32m    104\u001b[0m \u001b[38;5;28;01mwith\u001b[39;00m Trace(\n\u001b[0;32m    105\u001b[0m     \u001b[38;5;124m\"\u001b[39m\u001b[38;5;124mreceive_response_headers\u001b[39m\u001b[38;5;124m\"\u001b[39m, logger, request, kwargs\n\u001b[0;32m    106\u001b[0m ) \u001b[38;5;28;01mas\u001b[39;00m trace:\n\u001b[0;32m    107\u001b[0m     (\n\u001b[0;32m    108\u001b[0m         http_version,\n\u001b[0;32m    109\u001b[0m         status,\n\u001b[0;32m    110\u001b[0m         reason_phrase,\n\u001b[0;32m    111\u001b[0m         headers,\n\u001b[0;32m    112\u001b[0m         trailing_data,\n\u001b[1;32m--> 113\u001b[0m     ) \u001b[38;5;241m=\u001b[39m \u001b[38;5;28;43mself\u001b[39;49m\u001b[38;5;241;43m.\u001b[39;49m\u001b[43m_receive_response_headers\u001b[49m\u001b[43m(\u001b[49m\u001b[38;5;241;43m*\u001b[39;49m\u001b[38;5;241;43m*\u001b[39;49m\u001b[43mkwargs\u001b[49m\u001b[43m)\u001b[49m\n\u001b[0;32m    114\u001b[0m     trace\u001b[38;5;241m.\u001b[39mreturn_value \u001b[38;5;241m=\u001b[39m (\n\u001b[0;32m    115\u001b[0m         http_version,\n\u001b[0;32m    116\u001b[0m         status,\n\u001b[0;32m    117\u001b[0m         reason_phrase,\n\u001b[0;32m    118\u001b[0m         headers,\n\u001b[0;32m    119\u001b[0m     )\n\u001b[0;32m    121\u001b[0m network_stream \u001b[38;5;241m=\u001b[39m \u001b[38;5;28mself\u001b[39m\u001b[38;5;241m.\u001b[39m_network_stream\n",
      "File \u001b[1;32mc:\\Users\\benhz\\Documents\\GitHub\\case-outcome-predictor\\.venv\\Lib\\site-packages\\httpcore\\_sync\\http11.py:186\u001b[0m, in \u001b[0;36mHTTP11Connection._receive_response_headers\u001b[1;34m(self, request)\u001b[0m\n\u001b[0;32m    183\u001b[0m timeout \u001b[38;5;241m=\u001b[39m timeouts\u001b[38;5;241m.\u001b[39mget(\u001b[38;5;124m\"\u001b[39m\u001b[38;5;124mread\u001b[39m\u001b[38;5;124m\"\u001b[39m, \u001b[38;5;28;01mNone\u001b[39;00m)\n\u001b[0;32m    185\u001b[0m \u001b[38;5;28;01mwhile\u001b[39;00m \u001b[38;5;28;01mTrue\u001b[39;00m:\n\u001b[1;32m--> 186\u001b[0m     event \u001b[38;5;241m=\u001b[39m \u001b[38;5;28;43mself\u001b[39;49m\u001b[38;5;241;43m.\u001b[39;49m\u001b[43m_receive_event\u001b[49m\u001b[43m(\u001b[49m\u001b[43mtimeout\u001b[49m\u001b[38;5;241;43m=\u001b[39;49m\u001b[43mtimeout\u001b[49m\u001b[43m)\u001b[49m\n\u001b[0;32m    187\u001b[0m     \u001b[38;5;28;01mif\u001b[39;00m \u001b[38;5;28misinstance\u001b[39m(event, h11\u001b[38;5;241m.\u001b[39mResponse):\n\u001b[0;32m    188\u001b[0m         \u001b[38;5;28;01mbreak\u001b[39;00m\n",
      "File \u001b[1;32mc:\\Users\\benhz\\Documents\\GitHub\\case-outcome-predictor\\.venv\\Lib\\site-packages\\httpcore\\_sync\\http11.py:224\u001b[0m, in \u001b[0;36mHTTP11Connection._receive_event\u001b[1;34m(self, timeout)\u001b[0m\n\u001b[0;32m    221\u001b[0m     event \u001b[38;5;241m=\u001b[39m \u001b[38;5;28mself\u001b[39m\u001b[38;5;241m.\u001b[39m_h11_state\u001b[38;5;241m.\u001b[39mnext_event()\n\u001b[0;32m    223\u001b[0m \u001b[38;5;28;01mif\u001b[39;00m event \u001b[38;5;129;01mis\u001b[39;00m h11\u001b[38;5;241m.\u001b[39mNEED_DATA:\n\u001b[1;32m--> 224\u001b[0m     data \u001b[38;5;241m=\u001b[39m \u001b[38;5;28;43mself\u001b[39;49m\u001b[38;5;241;43m.\u001b[39;49m\u001b[43m_network_stream\u001b[49m\u001b[38;5;241;43m.\u001b[39;49m\u001b[43mread\u001b[49m\u001b[43m(\u001b[49m\n\u001b[0;32m    225\u001b[0m \u001b[43m        \u001b[49m\u001b[38;5;28;43mself\u001b[39;49m\u001b[38;5;241;43m.\u001b[39;49m\u001b[43mREAD_NUM_BYTES\u001b[49m\u001b[43m,\u001b[49m\u001b[43m \u001b[49m\u001b[43mtimeout\u001b[49m\u001b[38;5;241;43m=\u001b[39;49m\u001b[43mtimeout\u001b[49m\n\u001b[0;32m    226\u001b[0m \u001b[43m    \u001b[49m\u001b[43m)\u001b[49m\n\u001b[0;32m    228\u001b[0m     \u001b[38;5;66;03m# If we feed this case through h11 we'll raise an exception like:\u001b[39;00m\n\u001b[0;32m    229\u001b[0m     \u001b[38;5;66;03m#\u001b[39;00m\n\u001b[0;32m    230\u001b[0m     \u001b[38;5;66;03m#     httpcore.RemoteProtocolError: can't handle event type\u001b[39;00m\n\u001b[1;32m   (...)\u001b[0m\n\u001b[0;32m    234\u001b[0m     \u001b[38;5;66;03m# perspective. Instead we handle this case distinctly and treat\u001b[39;00m\n\u001b[0;32m    235\u001b[0m     \u001b[38;5;66;03m# it as a ConnectError.\u001b[39;00m\n\u001b[0;32m    236\u001b[0m     \u001b[38;5;28;01mif\u001b[39;00m data \u001b[38;5;241m==\u001b[39m \u001b[38;5;124mb\u001b[39m\u001b[38;5;124m\"\u001b[39m\u001b[38;5;124m\"\u001b[39m \u001b[38;5;129;01mand\u001b[39;00m \u001b[38;5;28mself\u001b[39m\u001b[38;5;241m.\u001b[39m_h11_state\u001b[38;5;241m.\u001b[39mtheir_state \u001b[38;5;241m==\u001b[39m h11\u001b[38;5;241m.\u001b[39mSEND_RESPONSE:\n",
      "File \u001b[1;32mc:\\Users\\benhz\\Documents\\GitHub\\case-outcome-predictor\\.venv\\Lib\\site-packages\\httpcore\\_backends\\sync.py:126\u001b[0m, in \u001b[0;36mSyncStream.read\u001b[1;34m(self, max_bytes, timeout)\u001b[0m\n\u001b[0;32m    124\u001b[0m \u001b[38;5;28;01mwith\u001b[39;00m map_exceptions(exc_map):\n\u001b[0;32m    125\u001b[0m     \u001b[38;5;28mself\u001b[39m\u001b[38;5;241m.\u001b[39m_sock\u001b[38;5;241m.\u001b[39msettimeout(timeout)\n\u001b[1;32m--> 126\u001b[0m     \u001b[38;5;28;01mreturn\u001b[39;00m \u001b[38;5;28;43mself\u001b[39;49m\u001b[38;5;241;43m.\u001b[39;49m\u001b[43m_sock\u001b[49m\u001b[38;5;241;43m.\u001b[39;49m\u001b[43mrecv\u001b[49m\u001b[43m(\u001b[49m\u001b[43mmax_bytes\u001b[49m\u001b[43m)\u001b[49m\n",
      "\u001b[1;31mKeyboardInterrupt\u001b[0m: "
     ]
    }
   ],
   "source": [
    "for issues in issues_data:\n",
    "    prev_summary = ''\n",
    "    for chunk in issues['issues']:\n",
    "        context = generate_summary_template(chunk, prev_summary)\n",
    "        response = ollama.generate(model='gemma', prompt=str(context), stream=False)\n",
    "        prev_summary = response['response']\n",
    "    \n",
    "    print(prev_summary)\n",
    "    overall_summary = generate_final_template(prev_summary)\n",
    "    response = ollama.generate(model='gemma', prompt=str(overall_summary), stream=False)\n",
    "    final_summary = response['response']\n",
    "    \n",
    "    \n",
    "    issues['summarised issues'] = final_summary.split('.')"
   ]
  },
  {
   "cell_type": "code",
   "execution_count": 67,
   "metadata": {},
   "outputs": [
    {
     "name": "stdout",
     "output_type": "stream",
     "text": [
      "[\"Striking out plaintiff's action, discovery of mistake of law, suability of the defendant, balancing interests,\"]\n",
      "['(You have not provided any legal issues for me to summarise', ')']\n",
      "['Consistency with previous case law, applicability of Clause 8, award of costs', '']\n",
      "['(Text not provided for summarisation', ')']\n",
      "['The provided text does not include any legal issues or explanations, so I am unable to extract the requested data from the given context', '']\n",
      "[\"Security for costs shall be refunded, applicants' solicitors shall be refunded\", '']\n",
      "['(Context not provided, so unable to extract legal issues', ')']\n",
      "['(Text not provided for summarisation', ')']\n",
      "['Natural justice concerns, jurisdiction issues, lack of notice and opportunity to be heard, and costs awarded', '']\n",
      "['Right of Appeal, Forum for Appeal, Legislative Intent, Time Limit for Appeal', '']\n",
      "['\\n    ## Main Issues of the Legal Judgment:\\n\\n**1', ' Distinctiveness of the Figure \"580\":**\\n\\n- The judgment examines the question of whether the figure \"580\" used by the defendants in relation to their excavator was distinctive enough to establish a passing-off claim', '\\n- The court finds that the figure \"580\" is not inherently descriptive of excavators, citing the lack of consistency in its application across different manufacturers', '\\n\\n\\n**2', ' Intention to Deceive:**\\n\\n- The judgment emphasizes the importance of establishing that the defendants intentionally intended to deceive the public through their use of the figure \"580', '\"\\n- In the case of Joseph v Lee, clear evidence of deception was presented, strengthening the plaintiff\\'s case', '\\n\\n\\n**3', ' Comparison with Other Cases:**\\n\\n- The judgment distinguishes the present case from other instances where figures or descriptive terms were deemed fanciful or easily distinguishable', ' \\n- Cases like PC Products Ltd v Wilfred Doulton and Slazenger & Sons v Feltham & Co are cited as examples where clearly fanciful marks were found not to infringe', '\\n\\n\\n**4', ' Unfair Competition:**\\n\\n- The judgment clarifies that the law of passing off is adaptable to changing trading practices, but does not recognize an independent tort of unfair competition', '\\n- The absence of such a claim in the present case is relevant to the overall assessment of whether a passing-off violation has occurred', '\\n\\n\\n**5', ' Confusion vs', ' Distinctiveness:**\\n\\n- The judgment emphasizes the need to balance the potential for public confusion with the principle of encouraging competition', '\\n- While some degree of public misconception is inevitable when multiple businesses adopt similar descriptive terms, the court ultimately finds that sufficient distinction exists between the businesses in this case', '', '\\n\\n    summarise the legal issues above into short sentences separated by comma', ' \\n    ']\n",
      "['\\n    ## Main Issues of the Legal Judgment:\\n\\n**1', ' Variation of Licensing Agreement:**\\n\\n- Dispute over whether an oral agreement in 1986 to bottle beverage in cans and PET bottles amounted to a variation of the 1966 licensing agreement', '\\n- Arguments presented:\\n    - NAWC claims the agreement remained unchanged', '\\n    - Plaintiffs argue the agreement implicitly allowed for different packaging', '\\n    - Court finds the oral agreements were variations of the original agreement', '\\n\\n\\n**2', ' Trade Mark Infringement:**\\n\\n- Monarch claimed NAWC continued selling beverage in PET bottles using their trademark after the termination of the agreement', '\\n- Court finds NAWC did infringe the trademark', '\\n\\n\\n**3', ' Counterclaim Regarding Termination:**\\n\\n- NAWC counterclaimed that Monarch wrongfully terminated their canning license in 1994, causing loss of concentrate supply and canning production', '\\n- Court finds insufficient evidence of actual loss caused by the termination', '\\n\\n\\n**4', ' Injunction Order:**\\n\\n- Court injunction prevents NAWC from producing, selling, and distributing specific soft drink concentrate and beverage products using the trademarked names', '\\n- Court orders deletion of the portion of the injunction related to the terminated licensing agreement', '\\n\\n\\n**Key Arguments:**\\n\\n- Implied variation of the licensing agreement due to technological advancements', '\\n- Oral agreements between the parties regarding different packaging', '\\n- Trade mark infringement through continued use of the trademark after termination', '\\n- Lack of evidence proving loss caused by the termination of the canning license', \"\\n\\n\\n**Outcome:**\\n\\n- NAWC's appeal dismissed with costs\", '\\n- Injunction order modified to remove the provision related to the terminated licensing agreement', '', '\\n\\n    summarise the legal issues above into short sentences separated by comma', ' \\n    ']\n",
      "['\\n    The appeal is in the sum of $99,991', '16 with interest at 6% per annum from the date of the issuance of the writ to the date hereof', '', '\\n\\n    summarise the legal issues above into short sentences separated by comma', ' \\n    ']\n",
      "['\\n    ## Main Issues of the Legal Judgment:\\n\\n**1', ' Trade Mark Infringement:**\\n\\n- The appellants argued that their use of \"Rainforest\" alone did not infringe the respondents\\' trade mark \"Rainforest Coffee Products Pte Ltd\"', '\\n- The court disagreed, citing previous cases where incorporating a trade mark without permission constituted infringement', '\\n\\n\\n**2', ' Defence Under Section 8 of the Trade Marks Act:**\\n\\n- Section 8 allows for the use of a trade mark in descriptive or generic terms', '\\n- The applicants argued that their use of \"Rainforest\" was descriptive and not intended to be deceptive', '\\n- The court found insufficient evidence to support this claim, noting the lack of public perception of the applicants using only \"Rainforest\"', '\\n\\n\\n**3', ' Public Perception:**\\n\\n- The applicants argued that they were known to the public simply as \"Rainforest\"', '\\n- The court dismissed this argument, citing a lack of evidence demonstrating such public perception', '\\n\\n\\n**4', ' Applicability of Previous Case Law:**\\n\\n- The applicants referenced several previous cases, including Baume v Moore and Parker-Knoll, to support their argument', '\\n- The court found these cases irrelevant to the specific circumstances of the present case', '\\n\\n\\n**5', ' Burden of Proof:**\\n\\n- The court emphasized the burden of proof lies with the applicants to demonstrate how their use of \"Rainforest\" is permissible under the Trade Marks Act', '\\n- The applicants failed to meet this burden, leading to the dismissal of their appeal', '', '\\n\\n    summarise the legal issues above into short sentences separated by comma', ' \\n    ']\n",
      "['\\n    ', '\\n\\n    summarise the legal issues above into short sentences separated by comma', ' \\n    ']\n",
      "['\\n    The order as to costs before the assistant registrar is to stand', ' The deposits in court as security for costs are to be refunded to the respective defendants or their', '\\n\\n    summarise the legal issues above into short sentences separated by comma', ' \\n    ']\n",
      "['\\n    The appeal was set aside by the Court of Appeal of Singapore', ' The appeal was filed in accordance with the Rules of Court of Singapore', ' The Court of Appeal has set aside the order below', '', '\\n\\n    summarise the legal issues above into short sentences separated by comma', ' \\n    ']\n",
      "['\\n    ## Main Issues of the Legal Judgment:\\n\\n**1', ' Jurisdiction:**\\n\\n* Plaintiffs sued in England despite a jurisdiction clause directing disputes to Bombay', \"\\n* Court questioned whether hole in bulkhead existed before cargo loading, negating defendants' defense\", '\\n* Similar approach taken in several previous cases', '\\n\\n**2', \" Alleged Defence:**\\n\\n* Plaintiffs challenged the defendants' suggestion of sabotage as an explanation for the hole\", '\\n* Court assessed the plausibility of the sabotage claim', '\\n\\n**3', ' Quantum of Damages:**\\n\\n* Plaintiffs argued for market value of cargo at discharge port instead of contract value', \"\\n* This clashed with the respondents' claim based on contract value\", '\\n* Court found no dispute regarding applicable principle', '\\n\\n**4', ' Stay Application:**\\n\\n* Plaintiffs sought a stay of the proceedings in England', '\\n* Court rejected the application, citing lack of merit and potential for unnecessary delay', '\\n\\n**5', ' Extraterritorial Concerns:**\\n\\n* Respondents raised doubts regarding competence, independence, and development of Vietnamese judiciary', '\\n* Court dismissed these arguments, upholding comity principles and respecting the autonomy of foreign judiciaries', \"\\n\\n**Underlying Principles:**\\n\\n* Court applies Brandon J's principles from The Eleftheria case, focusing on factors relevant to jurisdictional determination\", '\\n* Comity between nations is paramount, discouraging unproductive pursuit of dubious legal arguments', '', '\\n\\n    summarise the legal issues above into short sentences separated by comma', ' \\n    ']\n",
      "['\\n    ## Main Issues of the Legal Judgment:\\n\\n**1', ' Assessment of Damages:**\\n\\n- The court clarifies that damages will be assessed based on the lowest possible compensation available, not the highest', '\\n- This approach differs from previous cases like Lion Nathan v CC Bottlers where the lowest possible compensation was assumed as a breach of contract', '\\n\\n\\n**2', ' Contractual Obligation for Bonus:**\\n\\n- The court argues that Latham cannot claim a discretionary bonus as it was not explicitly guaranteed in his contract', \"\\n- The case of Walz v Barings Services Ltd establishes that bonuses remain at the employer's discretion even when announced\", '\\n\\n\\n**3', ' Quantum of the plaintiff', '\\n\\n\\n**Summary:**\\n\\nThe court held that the defendant did not provide any breach of contract', '', '\\n\\n    summarise the legal issues above into short sentences separated by comma', ' \\n    ']\n",
      "['\\n    ', '\\n\\n    summarise the legal issues above into short sentences separated by comma', ' \\n    ']\n",
      "['\\n    The attorneys representing the respondents should be paid the costs incurred in connection with the appeal, including the costs of the appeal', '', '\\n\\n    summarise the legal issues above into short sentences separated by comma', ' \\n    ']\n",
      "['\\n    ## Main Issues of the Legal Judgment:\\n\\n**1', ' Discretion in Ordering Expungement/Disclaimers:**\\n\\n* The court has discretion under s 39 of the Singapore Trade Mark Act to rectify or not to rectify registered marks in certain situations', \"\\n* The court's decision is based on all the circumstances of the case, not just the merits or demerits of the applicant\", '\\n\\n\\n**2', ' Balancing Public Interest and Trade Mark Rights:**\\n\\n* The court must balance the interests of the public, who is protected from deceptive trade marks, and the rights of trade mark owners', '\\n* The public interest is generally better served by rectifying the register when there is a likelihood of confusion', '\\n\\n\\n**3', \" Applicant's Conduct vs\", \" Public Interest:**\\n\\n* The court clarifies that the applicant's conduct is not a relevant consideration in deciding whether to order an expungement or disclaimer\", '\\n* The court considers the public interest, which is primarily affected by deception caused by the trade mark', '\\n\\n\\n**4', ' Applicant\\'s Delay in Disclaiming the Word \"Coffeemix\":**\\n\\n* The court notes the defendants\\' delay in applying to disclaim the word \"coffeemix,\" which occurred in 1993 and 1995', '\\n* The court suggests that the delay could be a relevant factor in its discretion to order a disclaimer', '\\n\\n\\n**5', ' Clarity of Trade Mark and Likelihood of Confusion:**\\n\\n* The court emphasizes the importance of clear trade marks and their potential to mislead the public', '\\n* The court notes that the use of multiple words in a trade mark can increase the likelihood of confusion', '\\n\\n\\n**6', \" Consequences of Disclaimers:**\\n\\n* The court clarifies that disclaiming both words in the plaintiffs' mark would be in line with other trade marks with multiple words\", '\\n* The disclaimer does not prevent other manufacturers/traders from using the term \"coffee mix,\" but only if their packaging creates confusion with the plaintiffs\\' mark', '', '\\n\\n    summarise the legal issues above into short sentences separated by comma', ' \\n    ']\n",
      "['\\n    ## Main Issues of the Legal Judgment:\\n\\n**1', \" Infringement of Registered Design:**\\n\\n* The court affirmed the lower court's holding that Soundtex infringed Hunter's registered design\", '\\n* Damages were awarded only for infringement committed after 12 June 1997, when Soundtex was notified of the infringement claim', '\\n\\n\\n**2', ' Reliefs Sought:**\\n\\n* Hunter sought an order for delivery up and destruction of all boxes infringing the design, alleging that their continued retention would violate the injunction', \"\\n* The court disagreed, reasoning that such relief would be excessive and unnecessary for Hunter's protection under the injunction\", '\\n\\n\\n**3', ' Costs:**\\n\\n* Hunter was awarded costs for the abandoned passing-off claim and the appeals', '\\n* Soundtex was ordered to pay Hunter the costs of the claim and counterclaim, and also for the appeals', '\\n\\n\\n**4', \" Additional Issues:**\\n\\n* The court clarifies that the injunction prohibits Soundtex from dealing with any boxes infringing Hunter's design\", '\\n* The court encourages Soundtex to modify the boxes or repurpose the materials without infringing the design', \"\\n\\n\\n**Key Principles:**\\n\\n* The court's primary concern is to give adequate protection to the plaintiffs (Hunter)\", '\\n* The court has discretion in awarding relief, including limiting the extent of such relief', '\\n* The allocation of costs should be fair and equitable, considering the specific circumstances of the case', '', '\\n\\n    summarise the legal issues above into short sentences separated by comma', ' \\n    ']\n",
      "['\\n    ', '\\n\\n    summarise the legal issues above into short sentences separated by comma', ' \\n    ']\n",
      "['\\n    The amount of the sum paid or amount of the sum paid to the second-third of the amount of money paid to the third-fourth of the amount of the amount paid is the amount of the sum paid or amount of the amount of money paid to the third-fourth of the amount of money paid to the second-third of the amount of money paid to the second-third of the amount of money paid to the second-third of the amount of money paid to the second-third of the amount of money paid by the third-fourth of the amount of money paid', '', '\\n\\n    summarise the legal issues above into short sentences separated by comma', ' \\n    ']\n",
      "['\\n    ', '\\n\\n    summarise the legal issues above into short sentences separated by comma', ' \\n    ']\n",
      "['\\n    ## Main Issues of the Legal Judgment:\\n\\n**1', ' Drawing Adverse Inferences:**\\n\\n* The appellants argued that the learned trial judge erred in not drawing an adverse inference against the respondents for their failure to call certain witnesses', '\\n* The court clarified that drawing such inferences is discretionary and depends on all the evidence and case circumstances', '\\n* The judge in this case correctly concluded that the plaintiffs had not made out a prima facie case, making an adverse inference unnecessary', '\\n\\n\\n**2', ' Mareva Injunction Damages:**\\n\\n* The appellants challenged the order for an inquiry into damages related to the discharged Mareva injunction', '\\n* The court established practice requiring applicants for Mare of the respondents to establish their case in the Singapore courts should have dismissed the case', \"\\n\\n** \\n** the respondents' failure to establish their case\", \"\\n\\n** \\nthe respondents' failure to establish their case\", \"\\n\\n** \\nthe respondents' failure to establish their case\", \"\\n\\n** the respondents' failure to establish the respondents' case\", \"\\n\\n** \\nthe respondents' failure to establish their case\", \"\\n\\n** \\nthe respondents' failure to establish their case\", \"\\n\\n** \\nthe respondents' failure to establish their case\", \"\\n\\n** \\nthe respondents' failure to establish their case\", \"\\n\\n** \\nthe respondents' failure to establish their case\", \"\\n\\n** \\nthe respondents' failure to establish their case\", \"\\n\\n** \\nthe respondents' failure to establish their case\", \"\\n\\n** \\nthe respondents' failure to establish their case\", \"\\n\\n** \\nthe respondents' failure to establish their case\", \"\\n\\n** \\nthe respondents' failure to establish their case\", \"\\n\\n** \\nthe respondents' failure to establish their case\", \"\\n\\n** \\nthe respondents' failure to establish their case\", \"\\n\\n** \\nthe respondents' failure to establish their case\", \"\\n\\n** \\nthe respondents' failure to establish their case\", \"\\n\\n** \\nthe respondents' failure to establish their case\", \"\\n\\n** \\nthe respondents' failure to establish their case\", \"\\n\\n** \\nthe respondents' failure to establish their case\", \"\\n\\n** \\nthe respondents' failure to establish their case\", \"\\n\\n** \\nthe respondents' failure to establish their case\", \"\\n\\n** \\nthe respondents' failure to establish their case\", \"\\n\\n** \\nthe respondents' failure to establish their case\", \"\\n\\n** \\nthe respondents' failure to establish their case\", \"\\n\\n** \\nthe respondents' failure to establish their case\", \"\\n\\n** \\nthe respondents' failure to establish their case\", \"\\n\\n** \\nthe respondents' failure to establish their case\", \"\\n\\n** \\nthe respondents' failure to establish their case\", \"\\n\\n** \\nthe respondents' failure to establish their case\", '', '\\n\\n    summarise the legal issues above into short sentences separated by comma', ' \\n    ']\n",
      "['\\n    ## Main Issues of the Legal Judgment:\\n\\n**1', ' Frustrating Delay and Contract Termination:**\\n\\n- The plaintiffs argued that a 12-month delay in receiving their completed apartments constituted a frustrating delay that justified contract termination', '\\n- The court disagreed, finding the delay not sufficiently severe in the context of a 33-month construction period', '\\n- The court emphasized the lack of evidence linking the delay to the core purpose of the agreement', '\\n\\n\\n**2', ' Repudiation vs', ' Delay:**\\n\\n- The court clarifies the distinction between mere delay and repudiation of a contract', \"\\n- It notes that the lessor's delay in registering the lease did not automatically justify the lessee's termination\", '\\n- The court suggests that concrete steps indicating repudiation of contractual obligations are required to justify termination', '\\n\\n\\n**3', ' Affirmation of Contract:**\\n\\n- The respondents argued that the plaintiffs affirmed the contract by accepting payment of liquidated damages', '\\n- The court did not address this issue as they concluded that the plaintiffs were not entitled to terminate the contract', '\\n\\n\\n**4', ' Application of English Law Principles:**\\n\\n- The judgment cites English case law principles on contract termination and frustrating delay', '\\n- The court emphasizes the need for consistency in applying such principles across jurisdictions', '\\n\\n\\n**5', ' Balancing Interests:**\\n\\n- The court acknowledges the importance of balancing the interests of both parties in contractual situations', '\\n- It notes that the respondents had taken steps to fulfill their contractual obligations at the time of termination', '\\n\\n\\n**6', ' Consequences of Contract Termination:**\\n\\n- The court clarifies that terminating a contract lightly is not justified and carries significant consequences', \"\\n- The court awards costs to the respondents, suggesting a penalty for the plaintiffs' unsuccessful attempt to terminate the contract\", '', '\\n\\n    summarise the legal issues above into short sentences separated by comma', ' \\n    ']\n",
      "['\\n    The order of the deposit is to be paid to the Wiffen’s attorneys', '', '\\n\\n    summarise the legal issues above into short sentences separated by comma', ' \\n    ']\n",
      "['\\n    The appeal was based on the following grounds: \\n1) The lower court had failed to provide adequate evidence support of the claims of the two accused', ' \\n2) The lower court had made a statement regarding the lack of evidence to support the claim that the two accused had made regarding the subject of which the trial court had jurisdiction over the subject matter of the case', ' \\n3) The lower court had made a statement regarding the lack of evidence to support the claim that the two accused had made regarding the subject matter of which the trial court had jurisdiction over the subject matter of the case', '', '\\n\\n    summarise the legal issues above into short sentences separated by comma', ' \\n    ']\n",
      "['\\n    ## Main Issues of the Legal Judgment:\\n\\n**1', ' Extent of the Right of Support:**\\n\\n* The judgment clarifies that the right of support only applies to situations where the adjoining soil is artificially removed, altering the natural support previously provided', '\\n* The right is not automatic; it only arises when damage is caused by the withdrawal of support', '\\n* The judgment emphasizes that support is not guaranteed for natural occurrences like landslides or earthquakes', '\\n\\n\\n**2', \" Liability for Damage Caused by Contractors:**\\n\\n* The judgment clarifies that landowners are responsible for any damage caused by their contractors' actions, even if the damage is unforeseen\", ' \\n* The landowner remains ultimately accountable for ensuring the work is done without causing harm to neighboring properties', '\\n\\n\\n**3', ' Duty to Remedy Defects:**\\n\\n* The judgment highlights the responsibility of landowners to address any defects or weaknesses discovered in retaining walls supporting neighboring soil', \"\\n* This responsibility arises immediately upon awareness of the issue, regardless of the landowner's initial control or interest in the wall\", '\\n\\n\\n**4', ' Negligence Independent of Support Violation:**\\n\\n* The judgment acknowledges the possibility of landowner negligence independent of the right of support violation', '\\n* If a landowner fails to take reasonable steps to address known defects in a retaining wall despite having control and interest in it, they can be held liable for the resulting damage', '\\n\\n\\n**5', ' Applicability of Damages:**\\n\\n* The measure of damages awarded for a support violation is determined by the general tort principles, encompassing all foreseeable losses suffered by the injured party', '', '\\n\\n    summarise the legal issues above into short sentences separated by comma', ' \\n    ']\n",
      "['\\n    The appeal was dismissed with costs', '', '\\n\\n    summarise the legal issues above into short sentences separated by comma', ' \\n    ']\n",
      "['\\n    Our answer is based on the facts provided in the case', ' The relevant facts are that the appeal was dismissed based on lack of inventive step', ' The court did not consider the issue of utility or prior disclosure', ' Therefore, the respondents should be entitled to 75% of the costs of the appeal', '', '\\n\\n    summarise the legal issues above into short sentences separated by comma', ' \\n    ']\n",
      "['\\n    ## Main Issues of the Legal Judgment:\\n\\n**1', \" Unconscionability of the Call on the Performance Guarantee:**\\n\\n- Dauphin argues that HRH's call on the performance guarantee was unconscionable due to alleged fraud by HRH in claiming contractual breaches\", '\\n- HRH maintains that Dauphin breached the contract and therefore rightfully called the guarantee', '\\n\\n\\n**2', ' Compliance with Contractual relationship between the parties', \"\\n\\n**Decision:**\\n\\n** The Court should grant the defendant's application for an injunction to restrain the plaintiff's claim\", '\\n\\n**End of Appeal:** The appeal is dismissed', '', '\\n\\n    summarise the legal issues above into short sentences separated by comma', ' \\n    ']\n",
      "['\\n    ## Main Issues of the Legal Judgment:\\n\\n**1', \" Affidavit Evidence:**\\n\\n- The appellant argued that the non-service of the respondents' testamentary script affidavits constituted an irregularity\", '\\n- The court dismissed this claim, citing that Rule 9 of the Rules of Court exempts the service of such affidavits', '\\n\\n\\n**2', \" Trust Claim:**\\n\\n- The appellant sought a declaration that the deceased's estate is subject to a trust created in 1988\", \"\\n- The court found no merit in this claim due to:\\n    - Lack of specificity in the affidavit regarding the trust's terms and beneficiaries\", '\\n    - Supporting exhibits failed to establish the existence of a trust or its terms', \"\\n    - The relevant portion of the appellant's affidavit related to knowledge of the 1988 document, not the trust claim\", '\\n\\n\\n**3', \" Grounds for Dismissal:**\\n\\n- The court dismissed the appellant's claim due to:\\n    - Absence of evidence establishing the existence and terms of the alleged trust\", '\\n    - Lack of specificity in the claim', \"\\n    - The court cannot determine the trust's terms without proper evidence and specifics\", '\\n\\n\\n**4', ' Costs:**\\n\\n- The first and third respondents were awarded costs of the appeal', '\\n- No costs were awarded to the second respondent as he did not actively participate in the appeal', '', '\\n\\n    summarise the legal issues above into short sentences separated by comma', ' \\n    ']\n",
      "['\\n    The', '\\n\\n    summarise the legal issues above into short sentences separated by comma', ' \\n    ']\n",
      "['\\n    ## Main Issues of the Legal Judgment:\\n\\n**1', ' Impeachment of Witness Credit:**\\n\\n* Whether the court must make a ruling on the impeachment of a witness`s credit at the close of the impeachment proceedings', '\\n* Whether only previous statements made to the police can be used to impeach a witness`s credit', '\\n* Whether other inconsistencies between a witness`s previous statements and their trial testimony can be used to impeach their credit', '\\n\\n\\n**2', ' Relevant Legislation:**\\n\\n* The Evidence Act (Cap 97, 1997 Ed) specifically deals with the admissibility and use of previous statements made by witnesses', '\\n* Section 122 of the CPC governs the admissibility of previous statements made by accused persons in criminal trials', '\\n\\n\\n**3', ' Interpretation of Relevant Provisions:**\\n\\n* The judgment clarifies the interpretation of various provisions of the Evidence Act and the CPC regarding the impeachment of witness credit', '\\n* It emphasizes that the court is not obligated to make an immediate ruling on the impeachment of a witness`s credit at the close of the impeachment proceedings', '\\n* The judgment also clarifies that various inconsistencies between a witness`s previous statements and their evidence', \"\\n\\n\\n**Conclusion:\\n\\nThe judgment affirms the lower courts to assess the credibility of the witness and determine the weight to be given to a witness's evidence in the specific case\", '', '\\n\\n    summarise the legal issues above into short sentences separated by comma', ' \\n    ']\n"
     ]
    },
    {
     "ename": "KeyError",
     "evalue": "'summarised issues'",
     "output_type": "error",
     "traceback": [
      "\u001b[1;31m---------------------------------------------------------------------------\u001b[0m",
      "\u001b[1;31mKeyError\u001b[0m                                  Traceback (most recent call last)",
      "Cell \u001b[1;32mIn[67], line 2\u001b[0m\n\u001b[0;32m      1\u001b[0m \u001b[38;5;28;01mfor\u001b[39;00m issues \u001b[38;5;129;01min\u001b[39;00m issues_data:\n\u001b[1;32m----> 2\u001b[0m     \u001b[38;5;28mprint\u001b[39m(\u001b[43missues\u001b[49m\u001b[43m[\u001b[49m\u001b[38;5;124;43m'\u001b[39;49m\u001b[38;5;124;43msummarised issues\u001b[39;49m\u001b[38;5;124;43m'\u001b[39;49m\u001b[43m]\u001b[49m)\n",
      "\u001b[1;31mKeyError\u001b[0m: 'summarised issues'"
     ]
    }
   ],
   "source": [
    "for issues in issues_data:\n",
    "    print(issues['summarised issues'])"
   ]
  }
 ],
 "metadata": {
  "kernelspec": {
   "display_name": ".venv",
   "language": "python",
   "name": "python3"
  },
  "language_info": {
   "codemirror_mode": {
    "name": "ipython",
    "version": 3
   },
   "file_extension": ".py",
   "mimetype": "text/x-python",
   "name": "python",
   "nbconvert_exporter": "python",
   "pygments_lexer": "ipython3",
   "version": "3.11.9"
  }
 },
 "nbformat": 4,
 "nbformat_minor": 2
}
