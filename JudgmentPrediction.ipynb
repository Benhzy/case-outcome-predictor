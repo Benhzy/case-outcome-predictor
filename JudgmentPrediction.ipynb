{
 "cells": [
  {
   "cell_type": "markdown",
   "metadata": {},
   "source": [
    "### Tips from prof\n",
    "\n",
    "- Narrow scope of work (e.g. court level)\n",
    "\n",
    "- Could try both binary/multi-class model outcomes and compare the performance \n",
    "\n",
    "- Change user from layperson to legal professional (and mention that this project is a stepping stone towards having layperson use the model)\n",
    "\n",
    "- Link features to predicted outcome (if time permits can try using XGBoost with LIME for model interpretability)\n",
    "\n",
    "- Can also try to see accuracy of models with different areas of law, lowest accuracy may be hardest area of law to predict\n"
   ]
  },
  {
   "cell_type": "markdown",
   "metadata": {},
   "source": [
    "### Data setup"
   ]
  },
  {
   "cell_type": "code",
   "execution_count": 6,
   "metadata": {},
   "outputs": [],
   "source": [
    "import pandas as pd\n",
    "import json\n",
    "from sklearn.model_selection import StratifiedShuffleSplit\n",
    "from sklearn.model_selection import train_test_split\n",
    "from sklearn.preprocessing import MultiLabelBinarizer\n",
    "import ast"
   ]
  },
  {
   "cell_type": "code",
   "execution_count": 58,
   "metadata": {},
   "outputs": [
    {
     "name": "stdout",
     "output_type": "stream",
     "text": [
      "           casename                                        area_of_law  \\\n",
      "0   2000_SGCA_1.pdf  {'civil procedure': ['pleadings'], 'res judica...   \n",
      "1  2000_SGCA_10.pdf  {'contract': ['formation'], 'equity': ['defenc...   \n",
      "2  2000_SGCA_11.pdf  {'contract': ['discharge'], 'damages': ['asses...   \n",
      "3  2000_SGCA_12.pdf  {'courts and jurisdiction': ['court of appeal'...   \n",
      "4  2000_SGCA_13.pdf                     {'criminal law': ['offences']}   \n",
      "\n",
      "                                           Coram  themes court_level  \\\n",
      "0  ['Chao Hick Tin , L P Thean , Yong Pung How']     5.0        SGCA   \n",
      "1   ['Chao Hick Tin , Tan Lee Meng , L P Thean']     5.0        SGCA   \n",
      "2   ['Chao Hick Tin , Tan Lee Meng , L P Thean']     5.0        SGCA   \n",
      "3   ['Chao Hick Tin , Tan Lee Meng , L P Thean']     5.0        SGCA   \n",
      "4   ['Chao Hick Tin , Lai Kew Chai , L P Thean']    12.0        SGCA   \n",
      "\n",
      "         target  \n",
      "0    Favourable  \n",
      "1    Favourable  \n",
      "2    No outcome  \n",
      "3  Unfavourable  \n",
      "4  Unfavourable  \n"
     ]
    }
   ],
   "source": [
    "# Load CSV files into DataFrames\n",
    "areas_of_law_df = pd.read_csv(\"data/prediction_data/areas_of_law.csv\")\n",
    "coram_df = pd.read_csv(\"data/prediction_data/coram.csv\")\n",
    "fact_themes_df = pd.read_csv(\"data/prediction_data/fact_themes.csv\")\n",
    "sg_legal_cases_df = pd.read_csv(\"data/prediction_data/sg_legal_cases_dataset.csv\")\n",
    "target_rulings_df = pd.read_csv(\"data/prediction_data/target_rulings.csv\")\n",
    "# Load the JSON file into a dictionary\n",
    "# with open('data/prediction_data/issues.json') as f:\n",
    "#     issues_data = [json.loads(line) for line in f]\n",
    "# issues_df = pd.DataFrame(issues_data)\n",
    "\n",
    "# Merge DataFrames\n",
    "merged_df = pd.merge(areas_of_law_df, coram_df, on='casename', how='outer')\n",
    "merged_df = pd.merge(merged_df, fact_themes_df, on='casename', how='outer')\n",
    "merged_df = pd.merge(merged_df, sg_legal_cases_df, left_on='casename', right_on='filename', how='outer')\n",
    "# merged_df = pd.merge(merged_df, issues_df, on='casename', how='outer')\n",
    "merged_df = pd.merge(merged_df, target_rulings_df, on='casename', how='outer')\n",
    "\n",
    "merged_df.drop(columns=['Unnamed: 0'], inplace=True)\n",
    "merged_df.drop(columns=['filename'], inplace=True)\n",
    "\n",
    "# Display the resulting DataFrame\n",
    "print(merged_df.head())"
   ]
  },
  {
   "cell_type": "markdown",
   "metadata": {},
   "source": [
    "### Data Preprocessing"
   ]
  },
  {
   "cell_type": "code",
   "execution_count": 59,
   "metadata": {},
   "outputs": [
    {
     "name": "stdout",
     "output_type": "stream",
     "text": [
      "casename        0\n",
      "area_of_law     0\n",
      "Coram           7\n",
      "themes         47\n",
      "court_level     0\n",
      "target         47\n",
      "dtype: int64\n",
      "              casename area_of_law  \\\n",
      "241  2000_SGHC_257.pdf          []   \n",
      "274  2000_SGHC_290.pdf          []   \n",
      "412   2001_SGCA_66.pdf          []   \n",
      "432  2001_SGHC_101.pdf          []   \n",
      "438  2001_SGHC_108.pdf          []   \n",
      "442  2001_SGHC_111.pdf          []   \n",
      "448  2001_SGHC_118.pdf          []   \n",
      "457  2001_SGHC_128.pdf          []   \n",
      "460  2001_SGHC_130.pdf          []   \n",
      "462  2001_SGHC_132.pdf          []   \n",
      "475  2001_SGHC_148.pdf          []   \n",
      "478  2001_SGHC_150.pdf          []   \n",
      "479  2001_SGHC_151.pdf          []   \n",
      "489  2001_SGHC_163.pdf          []   \n",
      "498  2001_SGHC_174.pdf          []   \n",
      "536  2001_SGHC_214.pdf          []   \n",
      "537  2001_SGHC_215.pdf          []   \n",
      "544  2001_SGHC_222.pdf          []   \n",
      "546  2001_SGHC_224.pdf          []   \n",
      "550  2001_SGHC_228.pdf          []   \n",
      "551  2001_SGHC_229.pdf          []   \n",
      "555  2001_SGHC_232.pdf          []   \n",
      "564  2001_SGHC_240.pdf          []   \n",
      "568  2001_SGHC_244.pdf          []   \n",
      "574  2001_SGHC_250.pdf          []   \n",
      "578  2001_SGHC_254.pdf          []   \n",
      "581  2001_SGHC_257.pdf          []   \n",
      "591  2001_SGHC_266.pdf          []   \n",
      "592  2001_SGHC_267.pdf          []   \n",
      "596  2001_SGHC_270.pdf          []   \n",
      "603  2001_SGHC_277.pdf          []   \n",
      "615  2001_SGHC_289.pdf          []   \n",
      "619  2001_SGHC_292.pdf          []   \n",
      "622  2001_SGHC_295.pdf          []   \n",
      "630  2001_SGHC_301.pdf          []   \n",
      "633  2001_SGHC_304.pdf          []   \n",
      "647  2001_SGHC_319.pdf          []   \n",
      "651  2001_SGHC_322.pdf          []   \n",
      "658  2001_SGHC_329.pdf          []   \n",
      "667  2001_SGHC_337.pdf          []   \n",
      "675  2001_SGHC_344.pdf          []   \n",
      "678  2001_SGHC_347.pdf          []   \n",
      "700  2001_SGHC_367.pdf          []   \n",
      "701  2001_SGHC_368.pdf          []   \n",
      "705  2001_SGHC_371.pdf          []   \n",
      "707  2001_SGHC_373.pdf          []   \n",
      "713  2001_SGHC_379.pdf          []   \n",
      "\n",
      "                                             Coram  themes court_level target  \n",
      "241                                  ['MPH Rubin']     NaN        SGHC    NaN  \n",
      "274                             ['Judith Prakash']     NaN        SGHC    NaN  \n",
      "412  ['Chao Hick Tin , L P Thean , Yong Pung How']     NaN        SGCA    NaN  \n",
      "432                               ['Lai Siu Chiu']     NaN        SGHC    NaN  \n",
      "438                                ['S Rajendran']     NaN        SGHC    NaN  \n",
      "442  ['Chao Hick Tin , L P Thean , Yong Pung How']     NaN        SGHC    NaN  \n",
      "448                               ['Lai Kew Chai']     NaN        SGHC    NaN  \n",
      "457  ['Chao Hick Tin , L P Thean , Yong Pung How']     NaN        SGHC    NaN  \n",
      "460                                ['S Rajendran']     NaN        SGHC    NaN  \n",
      "462                               ['Lee Seiu Kin']     NaN        SGHC    NaN  \n",
      "475                                ['S Rajendran']     NaN        SGHC    NaN  \n",
      "478                               ['Lee Seiu Kin']     NaN        SGHC    NaN  \n",
      "479                               ['Lee Seiu Kin']     NaN        SGHC    NaN  \n",
      "489  ['Chao Hick Tin , L P Thean , Yong Pung How']     NaN        SGHC    NaN  \n",
      "498  ['Chao Hick Tin , L P Thean , Yong Pung How']     NaN        SGHC    NaN  \n",
      "536                              ['Yong Pung How']     NaN        SGHC    NaN  \n",
      "537  ['Chao Hick Tin , L P Thean , Yong Pung How']     NaN        SGHC    NaN  \n",
      "544                              ['Choo Han Teck']     NaN        SGHC    NaN  \n",
      "546                              ['Kan Ting Chiu']     NaN        SGHC    NaN  \n",
      "550                              ['Choo Han Teck']     NaN        SGHC    NaN  \n",
      "551                              ['Yong Pung How']     NaN        SGHC    NaN  \n",
      "555                  ['Chao Hick Tin , L P Thean']     NaN        SGHC    NaN  \n",
      "564                              ['Yong Pung How']     NaN        SGHC    NaN  \n",
      "568                              ['Yong Pung How']     NaN        SGHC    NaN  \n",
      "574                               ['Lai Siu Chiu']     NaN        SGHC    NaN  \n",
      "578                              ['Yong Pung How']     NaN        SGHC    NaN  \n",
      "581                              ['Yong Pung How']     NaN        SGHC    NaN  \n",
      "591                              ['Yong Pung How']     NaN        SGHC    NaN  \n",
      "592                               ['Lai Kew Chai']     NaN        SGHC    NaN  \n",
      "596                              ['Kan Ting Chiu']     NaN        SGHC    NaN  \n",
      "603                             ['Judith Prakash']     NaN        SGHC    NaN  \n",
      "615                               ['Lai Siu Chiu']     NaN        SGHC    NaN  \n",
      "619                              ['Choo Han Teck']     NaN        SGHC    NaN  \n",
      "622                                 ['Woo Bih Li']     NaN        SGHC    NaN  \n",
      "630                             ['Tay Yong Kwang']     NaN        SGHC    NaN  \n",
      "633                              ['Yong Pung How']     NaN        SGHC    NaN  \n",
      "647                               ['Tan Lee Meng']     NaN        SGHC    NaN  \n",
      "651                             ['Tay Yong Kwang']     NaN        SGHC    NaN  \n",
      "658                              ['Yong Pung How']     NaN        SGHC    NaN  \n",
      "667                              ['Yong Pung How']     NaN        SGHC    NaN  \n",
      "675                              ['Yong Pung How']     NaN        SGHC    NaN  \n",
      "678                              ['Yong Pung How']     NaN        SGHC    NaN  \n",
      "700                                 ['Woo Bih Li']     NaN        SGHC    NaN  \n",
      "701                              ['Yong Pung How']     NaN        SGHC    NaN  \n",
      "705                              ['Yong Pung How']     NaN        SGHC    NaN  \n",
      "707                              ['Yong Pung How']     NaN        SGHC    NaN  \n",
      "713                              ['Kan Ting Chiu']     NaN        SGHC    NaN  \n",
      "casename       0\n",
      "area_of_law    0\n",
      "Coram          0\n",
      "themes         0\n",
      "court_level    0\n",
      "target         0\n",
      "dtype: int64\n",
      "target\n",
      "Favourable      3942\n",
      "Unfavourable    2056\n",
      "No outcome       795\n",
      "Name: count, dtype: int64\n"
     ]
    }
   ],
   "source": [
    "nan_counts = merged_df.isna().sum()\n",
    "print(nan_counts)\n",
    "\n",
    "#nas are probably those reassigned cases, coram has 7, i just drop them for now\n",
    "na_target_rows = merged_df[merged_df['target'].isna()]\n",
    "print(na_target_rows)\n",
    "\n",
    "merged_df.dropna(axis=0, inplace=True)\n",
    "print(merged_df.isna().sum())\n",
    "\n",
    "#remove empty lists\n",
    "merged_df = merged_df.query(\"area_of_law != '[]'\")\n",
    "\n",
    "#target is unbalanced\n",
    "target_counts = merged_df['target'].value_counts()\n",
    "print(target_counts)"
   ]
  },
  {
   "cell_type": "code",
   "execution_count": 60,
   "metadata": {},
   "outputs": [
    {
     "data": {
      "text/html": [
       "<div>\n",
       "<style scoped>\n",
       "    .dataframe tbody tr th:only-of-type {\n",
       "        vertical-align: middle;\n",
       "    }\n",
       "\n",
       "    .dataframe tbody tr th {\n",
       "        vertical-align: top;\n",
       "    }\n",
       "\n",
       "    .dataframe thead th {\n",
       "        text-align: right;\n",
       "    }\n",
       "</style>\n",
       "<table border=\"1\" class=\"dataframe\">\n",
       "  <thead>\n",
       "    <tr style=\"text-align: right;\">\n",
       "      <th></th>\n",
       "      <th>casename</th>\n",
       "      <th>area_of_law</th>\n",
       "      <th>Coram</th>\n",
       "      <th>themes</th>\n",
       "      <th>court_level</th>\n",
       "      <th>target</th>\n",
       "    </tr>\n",
       "  </thead>\n",
       "  <tbody>\n",
       "    <tr>\n",
       "      <th>0</th>\n",
       "      <td>2000_SGCA_1.pdf</td>\n",
       "      <td>{'civil procedure': ['pleadings'], 'res judica...</td>\n",
       "      <td>[Chao Hick Tin , L P Thean , Yong Pung How]</td>\n",
       "      <td>5.0</td>\n",
       "      <td>SGCA</td>\n",
       "      <td>Favourable</td>\n",
       "    </tr>\n",
       "    <tr>\n",
       "      <th>1</th>\n",
       "      <td>2000_SGCA_10.pdf</td>\n",
       "      <td>{'contract': ['formation'], 'equity': ['defenc...</td>\n",
       "      <td>[Chao Hick Tin , Tan Lee Meng , L P Thean]</td>\n",
       "      <td>5.0</td>\n",
       "      <td>SGCA</td>\n",
       "      <td>Favourable</td>\n",
       "    </tr>\n",
       "    <tr>\n",
       "      <th>2</th>\n",
       "      <td>2000_SGCA_11.pdf</td>\n",
       "      <td>{'contract': ['discharge'], 'damages': ['asses...</td>\n",
       "      <td>[Chao Hick Tin , Tan Lee Meng , L P Thean]</td>\n",
       "      <td>5.0</td>\n",
       "      <td>SGCA</td>\n",
       "      <td>No outcome</td>\n",
       "    </tr>\n",
       "  </tbody>\n",
       "</table>\n",
       "</div>"
      ],
      "text/plain": [
       "           casename                                        area_of_law  \\\n",
       "0   2000_SGCA_1.pdf  {'civil procedure': ['pleadings'], 'res judica...   \n",
       "1  2000_SGCA_10.pdf  {'contract': ['formation'], 'equity': ['defenc...   \n",
       "2  2000_SGCA_11.pdf  {'contract': ['discharge'], 'damages': ['asses...   \n",
       "\n",
       "                                         Coram  themes court_level      target  \n",
       "0  [Chao Hick Tin , L P Thean , Yong Pung How]     5.0        SGCA  Favourable  \n",
       "1   [Chao Hick Tin , Tan Lee Meng , L P Thean]     5.0        SGCA  Favourable  \n",
       "2   [Chao Hick Tin , Tan Lee Meng , L P Thean]     5.0        SGCA  No outcome  "
      ]
     },
     "execution_count": 60,
     "metadata": {},
     "output_type": "execute_result"
    }
   ],
   "source": [
    "merged_df['area_of_law'] = merged_df['area_of_law'].apply(ast.literal_eval)\n",
    "merged_df['Coram'] = merged_df['Coram'].apply(ast.literal_eval)\n",
    "merged_df.head(3)"
   ]
  },
  {
   "cell_type": "markdown",
   "metadata": {},
   "source": [
    "### Flatten areas_of_law"
   ]
  },
  {
   "cell_type": "code",
   "execution_count": 61,
   "metadata": {},
   "outputs": [],
   "source": [
    "all_areas = []\n",
    "\n",
    "for index, row in merged_df.iterrows():\n",
    "\n",
    "    areas = row['area_of_law']\n",
    "    flat_areas = []\n",
    "    for main_area, sub_areas in areas.items():\n",
    "        flat_areas.append(main_area)\n",
    "        flat_areas.extend(sub_areas)\n",
    "    all_areas.append(flat_areas)"
   ]
  },
  {
   "cell_type": "markdown",
   "metadata": {},
   "source": [
    "### One hot encoding"
   ]
  },
  {
   "cell_type": "code",
   "execution_count": 69,
   "metadata": {},
   "outputs": [
    {
     "name": "stdout",
     "output_type": "stream",
     "text": [
      "           casename                                        Coram  themes  \\\n",
      "0   2000_SGCA_1.pdf  [Chao Hick Tin , L P Thean , Yong Pung How]     5.0   \n",
      "1  2000_SGCA_10.pdf   [Chao Hick Tin , Tan Lee Meng , L P Thean]     5.0   \n",
      "2  2000_SGCA_11.pdf   [Chao Hick Tin , Tan Lee Meng , L P Thean]     5.0   \n",
      "\n",
      "  court_level      target  \"a larger sum being repaid\"  \"abet\"  \\\n",
      "0        SGCA  Favourable                          0.0     0.0   \n",
      "1        SGCA  Favourable                          0.0     0.0   \n",
      "2        SGCA  No outcome                          0.0     0.0   \n",
      "\n",
      "   \"an interest in any matter\"  \"any action proposed or contemplated\"  \\\n",
      "0                          0.0                                    0.0   \n",
      "1                          0.0                                    0.0   \n",
      "2                          0.0                                    0.0   \n",
      "\n",
      "   \"any person\"  ...  writ of  seizure and sale  writ of summons  \\\n",
      "0           0.0  ...                        0.0              0.0   \n",
      "1           0.0  ...                        0.0              0.0   \n",
      "2           0.0  ...                        0.0              0.0   \n",
      "\n",
      "   wrongful detention of property belonging to another  wrongful dismissal  \\\n",
      "0                                                0.0                   0.0   \n",
      "1                                                0.0                   0.0   \n",
      "2                                                0.0                   0.0   \n",
      "\n",
      "   young offenders]  “any claim  hereunder”  “any fire accidentally begin”  \\\n",
      "0               0.0                     0.0                            0.0   \n",
      "1               0.0                     0.0                            0.0   \n",
      "2               0.0                     0.0                            0.0   \n",
      "\n",
      "   “any person interested in the charity”  “charity proceedings”  \\\n",
      "0                                     0.0                    0.0   \n",
      "1                                     0.0                    0.0   \n",
      "2                                     0.0                    0.0   \n",
      "\n",
      "   “rash” and “negligent”  \n",
      "0                     0.0  \n",
      "1                     0.0  \n",
      "2                     0.0  \n",
      "\n",
      "[3 rows x 1718 columns]\n"
     ]
    }
   ],
   "source": [
    "# one-hot encode aol\n",
    "mlb = MultiLabelBinarizer()\n",
    "binary_features = mlb.fit_transform(all_areas)\n",
    "\n",
    "binary_aol_df = pd.DataFrame(binary_features, columns=mlb.classes_)\n",
    "\n",
    "processed_df = pd.concat([merged_df.drop('area_of_law', axis=1), binary_aol_df], axis=1)\n",
    "\n",
    "print(processed_df.head(3))"
   ]
  },
  {
   "cell_type": "code",
   "execution_count": 70,
   "metadata": {},
   "outputs": [],
   "source": [
    "processed_df = processed_df[processed_df['Coram'].apply(lambda x: isinstance(x, list))]"
   ]
  },
  {
   "cell_type": "code",
   "execution_count": 71,
   "metadata": {},
   "outputs": [
    {
     "name": "stdout",
     "output_type": "stream",
     "text": [
      "           casename  themes court_level        target  \\\n",
      "0   2000_SGCA_1.pdf     5.0        SGCA    Favourable   \n",
      "1  2000_SGCA_10.pdf     5.0        SGCA    Favourable   \n",
      "2  2000_SGCA_11.pdf     5.0        SGCA    No outcome   \n",
      "3  2000_SGCA_12.pdf     5.0        SGCA  Unfavourable   \n",
      "4  2000_SGCA_13.pdf    12.0        SGCA  Unfavourable   \n",
      "\n",
      "   \"a larger sum being repaid\"  \"abet\"  \"an interest in any matter\"  \\\n",
      "0                          0.0     0.0                          0.0   \n",
      "1                          0.0     0.0                          0.0   \n",
      "2                          0.0     0.0                          0.0   \n",
      "3                          0.0     0.0                          0.0   \n",
      "4                          0.0     0.0                          0.0   \n",
      "\n",
      "   \"any action proposed or contemplated\"  \"any person\"  \"appeal\"  ...  \\\n",
      "0                                    0.0           0.0       0.0  ...   \n",
      "1                                    0.0           0.0       0.0  ...   \n",
      "2                                    0.0           0.0       0.0  ...   \n",
      "3                                    0.0           0.0       0.0  ...   \n",
      "4                                    0.0           0.0       0.0  ...   \n",
      "\n",
      "   Vincent Hoong  Vinodh Coomaraswamy  Vinodh Coomaraswamy  (as he then was)  \\\n",
      "0            0.0                  0.0                                    0.0   \n",
      "1            0.0                  0.0                                    0.0   \n",
      "2            0.0                  0.0                                    0.0   \n",
      "3            0.0                  0.0                                    0.0   \n",
      "4            0.0                  0.0                                    0.0   \n",
      "\n",
      "   Wong Li Kok, Alex  Woo Bih Li  Yeong Zee Kin SAR  Yong Pung How  \\\n",
      "0                0.0         0.0                0.0            0.0   \n",
      "1                0.0         0.0                0.0            0.0   \n",
      "2                0.0         0.0                0.0            0.0   \n",
      "3                0.0         0.0                0.0            0.0   \n",
      "4                0.0         0.0                0.0            0.0   \n",
      "\n",
      "   Yong Pung How,  Yong Pung How, Chief Justice  Zhuo Wenzhao AR  \n",
      "0             0.0                           0.0              0.0  \n",
      "1             0.0                           0.0              0.0  \n",
      "2             0.0                           0.0              0.0  \n",
      "3             0.0                           0.0              0.0  \n",
      "4             0.0                           0.0              0.0  \n",
      "\n",
      "[5 rows x 1940 columns]\n"
     ]
    }
   ],
   "source": [
    "# one-hot encode coram\n",
    "mlb = MultiLabelBinarizer()\n",
    "binary_features = mlb.fit_transform(processed_df['Coram'])\n",
    "\n",
    "binary_coram_df = pd.DataFrame(binary_features, columns=mlb.classes_)\n",
    "\n",
    "processed_df = pd.concat([processed_df.drop('Coram', axis=1), binary_coram_df], axis=1)\n",
    "\n",
    "print(processed_df.head())"
   ]
  },
  {
   "cell_type": "markdown",
   "metadata": {},
   "source": [
    "#### splitting"
   ]
  },
  {
   "cell_type": "code",
   "execution_count": 42,
   "metadata": {},
   "outputs": [],
   "source": [
    "X = merged_df.drop(columns=['target'])\n",
    "y = merged_df['target']\n",
    "\n",
    "stratified_split = StratifiedShuffleSplit(n_splits=1, test_size=0.3, random_state=42)\n",
    "for train_index, remaining_index in stratified_split.split(X, y):\n",
    "    X_train, X_test_val = X.iloc[train_index], X.iloc[remaining_index]\n",
    "    y_train, y_test_val = y.iloc[train_index], y.iloc[remaining_index]\n",
    "\n",
    "#balanced dataset (target variable was imbalanced Favourable 5006 Unfavourable 2523 No outcome 984)\n",
    "#randomly found one online, can be changed -> need to check am i doing this right \n",
    "from imblearn.over_sampling import RandomOverSampler\n",
    "ros = RandomOverSampler(random_state=42)\n",
    "X_train_resampled, y_train_resampled = ros.fit_resample(X_train, y_train)\n",
    "\n",
    "#split further from X_test_val into X_val and X_test\n",
    "X_val, X_test, y_val, y_test = train_test_split(X_test_val, y_test_val, test_size=0.5, random_state=42, stratify=y_test_val)"
   ]
  },
  {
   "cell_type": "markdown",
   "metadata": {},
   "source": [
    "### Feature Engineering"
   ]
  },
  {
   "cell_type": "code",
   "execution_count": null,
   "metadata": {},
   "outputs": [],
   "source": [
    "## One hot encoding\n",
    "## vector embedding\n",
    "## pipeline"
   ]
  },
  {
   "cell_type": "markdown",
   "metadata": {},
   "source": [
    "### Modeling"
   ]
  },
  {
   "cell_type": "code",
   "execution_count": null,
   "metadata": {},
   "outputs": [],
   "source": [
    "# Perform modelling"
   ]
  },
  {
   "cell_type": "markdown",
   "metadata": {},
   "source": [
    "### Evaluation"
   ]
  },
  {
   "cell_type": "code",
   "execution_count": null,
   "metadata": {},
   "outputs": [],
   "source": [
    "## Perform Evaluation"
   ]
  }
 ],
 "metadata": {
  "kernelspec": {
   "display_name": "Python 3",
   "language": "python",
   "name": "python3"
  },
  "language_info": {
   "codemirror_mode": {
    "name": "ipython",
    "version": 3
   },
   "file_extension": ".py",
   "mimetype": "text/x-python",
   "name": "python",
   "nbconvert_exporter": "python",
   "pygments_lexer": "ipython3",
   "version": "3.11.9"
  }
 },
 "nbformat": 4,
 "nbformat_minor": 2
}
